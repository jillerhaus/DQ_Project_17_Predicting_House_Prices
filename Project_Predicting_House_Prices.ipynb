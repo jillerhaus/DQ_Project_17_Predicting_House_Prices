{
 "cells": [
  {
   "cell_type": "code",
   "execution_count": 1,
   "metadata": {
    "collapsed": true
   },
   "outputs": [],
   "source": [
    "# imports\n",
    "import numpy as np\n",
    "import pandas as pd\n",
    "from sklearn.linear_model import LinearRegression\n",
    "from sklearn.metrics import mean_squared_error\n",
    "import matplotlib.pyplot as plt\n",
    "import re\n",
    "import seaborn as sns\n",
    "%matplotlib inline"
   ]
  },
  {
   "cell_type": "code",
   "execution_count": 2,
   "metadata": {
    "collapsed": false
   },
   "outputs": [],
   "source": [
    "# dataset as df\n",
    "data = pd.read_csv('AmesHousing.tsv', delimiter= '\\t')"
   ]
  },
  {
   "cell_type": "code",
   "execution_count": 3,
   "metadata": {
    "collapsed": false
   },
   "outputs": [
    {
     "data": {
      "text/html": [
       "<div>\n",
       "<style scoped>\n",
       "    .dataframe tbody tr th:only-of-type {\n",
       "        vertical-align: middle;\n",
       "    }\n",
       "\n",
       "    .dataframe tbody tr th {\n",
       "        vertical-align: top;\n",
       "    }\n",
       "\n",
       "    .dataframe thead th {\n",
       "        text-align: right;\n",
       "    }\n",
       "</style>\n",
       "<table border=\"1\" class=\"dataframe\">\n",
       "  <thead>\n",
       "    <tr style=\"text-align: right;\">\n",
       "      <th></th>\n",
       "      <th>Order</th>\n",
       "      <th>PID</th>\n",
       "      <th>MS SubClass</th>\n",
       "      <th>MS Zoning</th>\n",
       "      <th>Lot Frontage</th>\n",
       "      <th>Lot Area</th>\n",
       "      <th>Street</th>\n",
       "      <th>Alley</th>\n",
       "      <th>Lot Shape</th>\n",
       "      <th>Land Contour</th>\n",
       "      <th>...</th>\n",
       "      <th>Pool Area</th>\n",
       "      <th>Pool QC</th>\n",
       "      <th>Fence</th>\n",
       "      <th>Misc Feature</th>\n",
       "      <th>Misc Val</th>\n",
       "      <th>Mo Sold</th>\n",
       "      <th>Yr Sold</th>\n",
       "      <th>Sale Type</th>\n",
       "      <th>Sale Condition</th>\n",
       "      <th>SalePrice</th>\n",
       "    </tr>\n",
       "  </thead>\n",
       "  <tbody>\n",
       "    <tr>\n",
       "      <th>0</th>\n",
       "      <td>1</td>\n",
       "      <td>526301100</td>\n",
       "      <td>20</td>\n",
       "      <td>RL</td>\n",
       "      <td>141.0</td>\n",
       "      <td>31770</td>\n",
       "      <td>Pave</td>\n",
       "      <td>NaN</td>\n",
       "      <td>IR1</td>\n",
       "      <td>Lvl</td>\n",
       "      <td>...</td>\n",
       "      <td>0</td>\n",
       "      <td>NaN</td>\n",
       "      <td>NaN</td>\n",
       "      <td>NaN</td>\n",
       "      <td>0</td>\n",
       "      <td>5</td>\n",
       "      <td>2010</td>\n",
       "      <td>WD</td>\n",
       "      <td>Normal</td>\n",
       "      <td>215000</td>\n",
       "    </tr>\n",
       "    <tr>\n",
       "      <th>1</th>\n",
       "      <td>2</td>\n",
       "      <td>526350040</td>\n",
       "      <td>20</td>\n",
       "      <td>RH</td>\n",
       "      <td>80.0</td>\n",
       "      <td>11622</td>\n",
       "      <td>Pave</td>\n",
       "      <td>NaN</td>\n",
       "      <td>Reg</td>\n",
       "      <td>Lvl</td>\n",
       "      <td>...</td>\n",
       "      <td>0</td>\n",
       "      <td>NaN</td>\n",
       "      <td>MnPrv</td>\n",
       "      <td>NaN</td>\n",
       "      <td>0</td>\n",
       "      <td>6</td>\n",
       "      <td>2010</td>\n",
       "      <td>WD</td>\n",
       "      <td>Normal</td>\n",
       "      <td>105000</td>\n",
       "    </tr>\n",
       "    <tr>\n",
       "      <th>2</th>\n",
       "      <td>3</td>\n",
       "      <td>526351010</td>\n",
       "      <td>20</td>\n",
       "      <td>RL</td>\n",
       "      <td>81.0</td>\n",
       "      <td>14267</td>\n",
       "      <td>Pave</td>\n",
       "      <td>NaN</td>\n",
       "      <td>IR1</td>\n",
       "      <td>Lvl</td>\n",
       "      <td>...</td>\n",
       "      <td>0</td>\n",
       "      <td>NaN</td>\n",
       "      <td>NaN</td>\n",
       "      <td>Gar2</td>\n",
       "      <td>12500</td>\n",
       "      <td>6</td>\n",
       "      <td>2010</td>\n",
       "      <td>WD</td>\n",
       "      <td>Normal</td>\n",
       "      <td>172000</td>\n",
       "    </tr>\n",
       "    <tr>\n",
       "      <th>3</th>\n",
       "      <td>4</td>\n",
       "      <td>526353030</td>\n",
       "      <td>20</td>\n",
       "      <td>RL</td>\n",
       "      <td>93.0</td>\n",
       "      <td>11160</td>\n",
       "      <td>Pave</td>\n",
       "      <td>NaN</td>\n",
       "      <td>Reg</td>\n",
       "      <td>Lvl</td>\n",
       "      <td>...</td>\n",
       "      <td>0</td>\n",
       "      <td>NaN</td>\n",
       "      <td>NaN</td>\n",
       "      <td>NaN</td>\n",
       "      <td>0</td>\n",
       "      <td>4</td>\n",
       "      <td>2010</td>\n",
       "      <td>WD</td>\n",
       "      <td>Normal</td>\n",
       "      <td>244000</td>\n",
       "    </tr>\n",
       "    <tr>\n",
       "      <th>4</th>\n",
       "      <td>5</td>\n",
       "      <td>527105010</td>\n",
       "      <td>60</td>\n",
       "      <td>RL</td>\n",
       "      <td>74.0</td>\n",
       "      <td>13830</td>\n",
       "      <td>Pave</td>\n",
       "      <td>NaN</td>\n",
       "      <td>IR1</td>\n",
       "      <td>Lvl</td>\n",
       "      <td>...</td>\n",
       "      <td>0</td>\n",
       "      <td>NaN</td>\n",
       "      <td>MnPrv</td>\n",
       "      <td>NaN</td>\n",
       "      <td>0</td>\n",
       "      <td>3</td>\n",
       "      <td>2010</td>\n",
       "      <td>WD</td>\n",
       "      <td>Normal</td>\n",
       "      <td>189900</td>\n",
       "    </tr>\n",
       "  </tbody>\n",
       "</table>\n",
       "<p>5 rows × 82 columns</p>\n",
       "</div>"
      ],
      "text/plain": [
       "   Order        PID  MS SubClass MS Zoning  Lot Frontage  Lot Area Street  \\\n",
       "0      1  526301100           20        RL         141.0     31770   Pave   \n",
       "1      2  526350040           20        RH          80.0     11622   Pave   \n",
       "2      3  526351010           20        RL          81.0     14267   Pave   \n",
       "3      4  526353030           20        RL          93.0     11160   Pave   \n",
       "4      5  527105010           60        RL          74.0     13830   Pave   \n",
       "\n",
       "  Alley Lot Shape Land Contour    ...     Pool Area Pool QC  Fence  \\\n",
       "0   NaN       IR1          Lvl    ...             0     NaN    NaN   \n",
       "1   NaN       Reg          Lvl    ...             0     NaN  MnPrv   \n",
       "2   NaN       IR1          Lvl    ...             0     NaN    NaN   \n",
       "3   NaN       Reg          Lvl    ...             0     NaN    NaN   \n",
       "4   NaN       IR1          Lvl    ...             0     NaN  MnPrv   \n",
       "\n",
       "  Misc Feature Misc Val Mo Sold Yr Sold Sale Type  Sale Condition  SalePrice  \n",
       "0          NaN        0       5    2010       WD           Normal     215000  \n",
       "1          NaN        0       6    2010       WD           Normal     105000  \n",
       "2         Gar2    12500       6    2010       WD           Normal     172000  \n",
       "3          NaN        0       4    2010       WD           Normal     244000  \n",
       "4          NaN        0       3    2010       WD           Normal     189900  \n",
       "\n",
       "[5 rows x 82 columns]"
      ]
     },
     "execution_count": 3,
     "metadata": {},
     "output_type": "execute_result"
    }
   ],
   "source": [
    "data.head()"
   ]
  },
  {
   "cell_type": "markdown",
   "metadata": {},
   "source": [
    "## Feature engineering:\n",
    "\n",
    "Here we will prepare and filter the features that will be used by out machine learning model.\n",
    "The first thing we'll do is add two columns that describe the age a building was sold or remodeled. This should hopefully be much more useful for the model."
   ]
  },
  {
   "cell_type": "code",
   "execution_count": 4,
   "metadata": {
    "collapsed": true
   },
   "outputs": [],
   "source": [
    "age_sold = data['Yr Sold'] - data['Year Built']\n",
    "age_remod = data['Year Remod/Add'] - data['Year Built']\n",
    "\n",
    "data['age_sold'] = age_sold\n",
    "data['age_remod'] = age_remod"
   ]
  },
  {
   "cell_type": "markdown",
   "metadata": {},
   "source": [
    "### transform_features:\n",
    "\n",
    "This function's goal is to clean data it receives. It does this by:\n",
    "\n",
    "1. Dropping all columns with more than a given ammount of NaN values (currently 5%)\n",
    "3. Certain columns are dropped by name directly, as they don't contribute useful information or are otherwise not useful for machine learning. These are also columns that can leak the sale price without providing information about the building itself. They can be found in the list `drop_cols`\n",
    "3. replacing the values in columns with between 0 & 5% NaN values with the mode for that column.\n",
    "\n"
   ]
  },
  {
   "cell_type": "code",
   "execution_count": 5,
   "metadata": {
    "collapsed": false
   },
   "outputs": [],
   "source": [
    "def transform_features(df):\n",
    "    drop_cols = ['Year Built', 'Yr Sold', 'Year Remod/Add',\n",
    "                 'Mo Sold', 'banana', 'Order', 'PID',\n",
    "                 \"Sale Condition\", \"Sale Type\", 'Garage Cars']\n",
    "    missing_vals = df.isnull().sum()/df.shape[0]\n",
    "    high_na_cols = df.columns[missing_vals > 0.05]\n",
    "    df = df.drop(columns = high_na_cols)\n",
    "#     sale_cols = df.columns[df.columns.str.contains('sold', flags = re.I)]\n",
    "#     df = df.drop(columns = sale_cols)\n",
    "    \n",
    "    # dropping columns by name\n",
    "    for column in drop_cols:\n",
    "        if column in df.columns:\n",
    "            df = df.drop(columns = column)\n",
    "        else:\n",
    "            print('column {} not in dataframe'.format(column))\n",
    "\n",
    "    missing_vals = df.isnull().sum()/df.shape[0]\n",
    "    low_na_num = ((df[missing_vals[(missing_vals > 0) & (missing_vals < 0.05)].index])\n",
    "                  .select_dtypes(include = ['int','float']).columns)\n",
    "    if low_na_num.shape[0] > 0:\n",
    "        df[low_na_num] = df[low_na_num].fillna(df[low_na_num].mode().to_dict(orient='records')[0])\n",
    "        \n",
    "    return df"
   ]
  },
  {
   "cell_type": "markdown",
   "metadata": {},
   "source": [
    "### Select features:\n",
    "\n",
    "This function selects the values we want to use for our machine learning model as features."
   ]
  },
  {
   "cell_type": "code",
   "execution_count": 6,
   "metadata": {
    "collapsed": true
   },
   "outputs": [],
   "source": [
    "def select_features(df):\n",
    "    numerical_df = df.select_dtypes(include = ['int','float'])\n",
    "    corr_cols = numerical_df.columns[numerical_df.corr().SalePrice.abs() > 0.4]\n",
    "\n",
    "    return data[numerical_df[corr_cols]]"
   ]
  },
  {
   "cell_type": "markdown",
   "metadata": {},
   "source": [
    "### train_and_test:\n",
    "\n",
    "This function trains and tests the model using the features we have pre-cleaned and selected.\n",
    "The function:\n",
    "\n",
    "1. divides our dataset into a training function and a test function\n",
    "2. calls the select_features function to get cleaned data from the sets\n",
    "3. instantiates, trains and tests a machine learning model using the linear regression model and the scikit learn module.It tests the accuracy of the model by calculating the root mean squared error when comparing the model's prediction of the `SalePrice` of the house to the value in the test set."
   ]
  },
  {
   "cell_type": "code",
   "execution_count": 7,
   "metadata": {
    "collapsed": false
   },
   "outputs": [],
   "source": [
    "def train_and_test(df):\n",
    "    # divide the data in a train and test set\n",
    "    train = df.iloc[:1460]\n",
    "    test = df.iloc[1460:]\n",
    "    \n",
    "    # extract features to use and use only the numerical columns\n",
    "    features = train\n",
    "    num_cols = features.select_dtypes(include = ['float','int']).drop(columns = ['SalePrice'])\n",
    "    \n",
    "    # instantiating, training and testing the machine_learning model\n",
    "    lr = LinearRegression()\n",
    "    lr.fit(num_cols, train.SalePrice)\n",
    "    predictions = lr.predict(test[num_cols.columns])\n",
    "    rmse = mean_squared_error(test.SalePrice, predictions)**0.5\n",
    "    return rmse"
   ]
  },
  {
   "cell_type": "markdown",
   "metadata": {},
   "source": [
    "## Feature Selection:\n",
    "\n",
    "Let's now go into feature selection:\n",
    "We will first look at how strongly the different numerical columns correlate to each other and therefore are likely to contain redundant information. We will do this by plotting a heatmap of the correlation matrix."
   ]
  },
  {
   "cell_type": "code",
   "execution_count": 8,
   "metadata": {
    "collapsed": false
   },
   "outputs": [
    {
     "name": "stdout",
     "output_type": "stream",
     "text": [
      "column banana not in dataframe\n"
     ]
    },
    {
     "data": {
      "text/plain": [
       "<matplotlib.axes._subplots.AxesSubplot at 0x7f7456ea3ac8>"
      ]
     },
     "execution_count": 8,
     "metadata": {},
     "output_type": "execute_result"
    },
    {
     "data": {
      "image/png": "[encoded data removed]",
      "text/plain": [
       "<matplotlib.figure.Figure at 0x7f7456eb4748>"
      ]
     },
     "metadata": {},
     "output_type": "display_data"
    }
   ],
   "source": [
    "numerical_df = transform_features(data).select_dtypes(include = ['int','float'])\n",
    "\n",
    "plt.figure(figsize = (10,10))\n",
    "sns.heatmap(numerical_df.corr())"
   ]
  },
  {
   "cell_type": "markdown",
   "metadata": {},
   "source": [
    "The graph above shows us one group of redundant information:\n",
    "garage_cars and garage_area are redundant. We will drop cars and keep area, because it is more granular.\n",
    "With the other correlations it is not entirely clear if the information is redundant or important. For example, of course the area of the basement is very closely related to that of the ground floor, since the ground floor is built on top of the basement, but they both contribute to the total area of the house. So if we dropped one of them, they would contribute less than the other, higher floors."
   ]
  },
  {
   "cell_type": "markdown",
   "metadata": {},
   "source": [
    "## Feature selection: Target column:\n",
    "\n",
    "Let's now find out how strongly the different features correlate to our target column, to be able to judge which we should use."
   ]
  },
  {
   "cell_type": "code",
   "execution_count": 9,
   "metadata": {
    "collapsed": false
   },
   "outputs": [],
   "source": [
    "corr_cols = numerical_df.columns[numerical_df.corr().SalePrice.abs() > 0.4]"
   ]
  },
  {
   "cell_type": "code",
   "execution_count": 10,
   "metadata": {
    "collapsed": false,
    "scrolled": false
   },
   "outputs": [
    {
     "data": {
      "text/html": [
       "<div>\n",
       "<style scoped>\n",
       "    .dataframe tbody tr th:only-of-type {\n",
       "        vertical-align: middle;\n",
       "    }\n",
       "\n",
       "    .dataframe tbody tr th {\n",
       "        vertical-align: top;\n",
       "    }\n",
       "\n",
       "    .dataframe thead th {\n",
       "        text-align: right;\n",
       "    }\n",
       "</style>\n",
       "<table border=\"1\" class=\"dataframe\">\n",
       "  <thead>\n",
       "    <tr style=\"text-align: right;\">\n",
       "      <th></th>\n",
       "      <th>Overall Qual</th>\n",
       "      <th>Mas Vnr Area</th>\n",
       "      <th>BsmtFin SF 1</th>\n",
       "      <th>Total Bsmt SF</th>\n",
       "      <th>1st Flr SF</th>\n",
       "      <th>Gr Liv Area</th>\n",
       "      <th>Full Bath</th>\n",
       "      <th>TotRms AbvGrd</th>\n",
       "      <th>Fireplaces</th>\n",
       "      <th>Garage Area</th>\n",
       "      <th>SalePrice</th>\n",
       "      <th>age_sold</th>\n",
       "    </tr>\n",
       "  </thead>\n",
       "  <tbody>\n",
       "    <tr>\n",
       "      <th>0</th>\n",
       "      <td>6</td>\n",
       "      <td>112.0</td>\n",
       "      <td>639.0</td>\n",
       "      <td>1080.0</td>\n",
       "      <td>1656</td>\n",
       "      <td>1656</td>\n",
       "      <td>1</td>\n",
       "      <td>7</td>\n",
       "      <td>2</td>\n",
       "      <td>528.0</td>\n",
       "      <td>215000</td>\n",
       "      <td>50</td>\n",
       "    </tr>\n",
       "    <tr>\n",
       "      <th>1</th>\n",
       "      <td>5</td>\n",
       "      <td>0.0</td>\n",
       "      <td>468.0</td>\n",
       "      <td>882.0</td>\n",
       "      <td>896</td>\n",
       "      <td>896</td>\n",
       "      <td>1</td>\n",
       "      <td>5</td>\n",
       "      <td>0</td>\n",
       "      <td>730.0</td>\n",
       "      <td>105000</td>\n",
       "      <td>49</td>\n",
       "    </tr>\n",
       "    <tr>\n",
       "      <th>2</th>\n",
       "      <td>6</td>\n",
       "      <td>108.0</td>\n",
       "      <td>923.0</td>\n",
       "      <td>1329.0</td>\n",
       "      <td>1329</td>\n",
       "      <td>1329</td>\n",
       "      <td>1</td>\n",
       "      <td>6</td>\n",
       "      <td>0</td>\n",
       "      <td>312.0</td>\n",
       "      <td>172000</td>\n",
       "      <td>52</td>\n",
       "    </tr>\n",
       "    <tr>\n",
       "      <th>3</th>\n",
       "      <td>7</td>\n",
       "      <td>0.0</td>\n",
       "      <td>1065.0</td>\n",
       "      <td>2110.0</td>\n",
       "      <td>2110</td>\n",
       "      <td>2110</td>\n",
       "      <td>2</td>\n",
       "      <td>8</td>\n",
       "      <td>2</td>\n",
       "      <td>522.0</td>\n",
       "      <td>244000</td>\n",
       "      <td>42</td>\n",
       "    </tr>\n",
       "    <tr>\n",
       "      <th>4</th>\n",
       "      <td>5</td>\n",
       "      <td>0.0</td>\n",
       "      <td>791.0</td>\n",
       "      <td>928.0</td>\n",
       "      <td>928</td>\n",
       "      <td>1629</td>\n",
       "      <td>2</td>\n",
       "      <td>6</td>\n",
       "      <td>1</td>\n",
       "      <td>482.0</td>\n",
       "      <td>189900</td>\n",
       "      <td>13</td>\n",
       "    </tr>\n",
       "  </tbody>\n",
       "</table>\n",
       "</div>"
      ],
      "text/plain": [
       "   Overall Qual  Mas Vnr Area  BsmtFin SF 1  Total Bsmt SF  1st Flr SF  \\\n",
       "0             6         112.0         639.0         1080.0        1656   \n",
       "1             5           0.0         468.0          882.0         896   \n",
       "2             6         108.0         923.0         1329.0        1329   \n",
       "3             7           0.0        1065.0         2110.0        2110   \n",
       "4             5           0.0         791.0          928.0         928   \n",
       "\n",
       "   Gr Liv Area  Full Bath  TotRms AbvGrd  Fireplaces  Garage Area  SalePrice  \\\n",
       "0         1656          1              7           2        528.0     215000   \n",
       "1          896          1              5           0        730.0     105000   \n",
       "2         1329          1              6           0        312.0     172000   \n",
       "3         2110          2              8           2        522.0     244000   \n",
       "4         1629          2              6           1        482.0     189900   \n",
       "\n",
       "   age_sold  \n",
       "0        50  \n",
       "1        49  \n",
       "2        52  \n",
       "3        42  \n",
       "4        13  "
      ]
     },
     "execution_count": 10,
     "metadata": {},
     "output_type": "execute_result"
    }
   ],
   "source": [
    "numerical_df[corr_cols].head()"
   ]
  },
  {
   "cell_type": "markdown",
   "metadata": {},
   "source": [
    "## Current functions:"
   ]
  },
  {
   "cell_type": "code",
   "execution_count": 11,
   "metadata": {
    "collapsed": false
   },
   "outputs": [
    {
     "name": "stdout",
     "output_type": "stream",
     "text": [
      "column banana not in dataframe\n",
      "column Alley not in dataframe\n"
     ]
    }
   ],
   "source": [
    "def transform_features(df = data):\n",
    "    drop_cols = ['Year Built', 'Yr Sold', 'Year Remod/Add',\n",
    "                 'Mo Sold', 'banana', 'Order', 'PID',\n",
    "                 \"Sale Condition\", \"Sale Type\", 'Garage Cars', 'Alley']\n",
    "    missing_vals = df.isnull().sum()/df.shape[0]\n",
    "    high_na_cols = df.columns[missing_vals > 0.05]\n",
    "    df = df.drop(columns = high_na_cols)\n",
    "#     sale_cols = df.columns[df.columns.str.contains('sold', flags = re.I)]\n",
    "#     df = df.drop(columns = sale_cols)\n",
    "    # dropping columns by name\n",
    "    for column in drop_cols:\n",
    "        if column in df.columns:\n",
    "            df = df.drop(columns = column)\n",
    "        else:\n",
    "            print('column {} not in dataframe'.format(column))\n",
    "    missing_vals = df.isnull().sum()/df.shape[0]\n",
    "    low_na_num = ((df[missing_vals[(missing_vals > 0) & (missing_vals < 0.05)].index])\n",
    "                  .select_dtypes(include = ['int','float']).columns)\n",
    "    if low_na_num.shape[0] > 0:\n",
    "        df[low_na_num] = df[low_na_num].fillna(df[low_na_num].mode().to_dict(orient='records')[0])\n",
    "        \n",
    "    return df\n",
    "\n",
    "def select_features(df = transform_features()):\n",
    "    numerical_df = df.select_dtypes(include = ['int','float'])\n",
    "    corr_cols = numerical_df.columns[numerical_df.corr().SalePrice.abs() > 0.4]\n",
    "\n",
    "    return numerical_df[corr_cols]\n",
    "\n",
    "def train_and_test(df = select_features()):\n",
    "    # divide the data in a train and test set\n",
    "    train = df.iloc[:1460]\n",
    "    test = df.iloc[1460:]\n",
    "    \n",
    "    # extract features to use and use only the numerical columns\n",
    "    features = train\n",
    "    num_cols = features.select_dtypes(include = ['float','int']).drop(columns = ['SalePrice'])\n",
    "    \n",
    "    # instantiating, training and testing the machine_learning model\n",
    "    lr = LinearRegression()\n",
    "    lr.fit(num_cols, train.SalePrice)\n",
    "    predictions = lr.predict(test[num_cols.columns])\n",
    "    rmse = mean_squared_error(test.SalePrice, predictions)**0.5\n",
    "    return rmse"
   ]
  },
  {
   "cell_type": "markdown",
   "metadata": {},
   "source": [
    "## Columns for categorization\n",
    "\n",
    "Now we will find columns, that could benefit from being categorized and categorize them. For this we need nominal features. In our dataframe, these are:"
   ]
  },
  {
   "cell_type": "code",
   "execution_count": 12,
   "metadata": {
    "collapsed": true
   },
   "outputs": [],
   "source": [
    "nominal_features = [\"PID\", \"MS SubClass\", \"MS Zoning\", \"Street\", \"Alley\", \"Land Contour\", \"Lot Config\", \"Neighborhood\", \n",
    "                    \"Condition 1\", \"Condition 2\", \"Bldg Type\", \"House Style\", \"Roof Style\", \"Roof Matl\", \"Exterior 1st\", \n",
    "                    \"Exterior 2nd\", \"Mas Vnr Type\", \"Foundation\", \"Heating\", \"Central Air\", \"Garage Type\", \n",
    "                    \"Misc Feature\", \"Sale Type\", \"Sale Condition\"]"
   ]
  },
  {
   "cell_type": "markdown",
   "metadata": {},
   "source": [
    "We will reduce these to those nominal features, that have 10 or less unique values. These will be our categorization"
   ]
  },
  {
   "cell_type": "code",
   "execution_count": 13,
   "metadata": {
    "collapsed": false
   },
   "outputs": [],
   "source": [
    "cat_cols = []\n",
    "for column in nominal_features:\n",
    "    uniques = data[column].unique().shape[0]\n",
    "    if uniques >= 10:\n",
    "        cat_cols.append(column)"
   ]
  },
  {
   "cell_type": "markdown",
   "metadata": {},
   "source": [
    "Let's explore our new columns and see how many nan values they have"
   ]
  },
  {
   "cell_type": "code",
   "execution_count": 14,
   "metadata": {
    "collapsed": false
   },
   "outputs": [
    {
     "data": {
      "text/plain": [
       "PID             0\n",
       "MS SubClass     0\n",
       "Neighborhood    0\n",
       "Exterior 1st    0\n",
       "Exterior 2nd    0\n",
       "Sale Type       0\n",
       "dtype: int64"
      ]
     },
     "execution_count": 14,
     "metadata": {},
     "output_type": "execute_result"
    }
   ],
   "source": [
    "data[cat_cols].isnull().sum()"
   ]
  },
  {
   "cell_type": "markdown",
   "metadata": {},
   "source": [
    "'Mas Vnr Type' has 23 nan values. We can replace those with 'none'."
   ]
  },
  {
   "cell_type": "code",
   "execution_count": 15,
   "metadata": {
    "collapsed": false
   },
   "outputs": [
    {
     "data": {
      "text/plain": [
       "None       1752\n",
       "BrkFace     880\n",
       "Stone       249\n",
       "BrkCmn       25\n",
       "NaN          23\n",
       "CBlock        1\n",
       "Name: Mas Vnr Type, dtype: int64"
      ]
     },
     "execution_count": 15,
     "metadata": {},
     "output_type": "execute_result"
    }
   ],
   "source": [
    "data['Mas Vnr Type'].value_counts(dropna = False)"
   ]
  },
  {
   "cell_type": "markdown",
   "metadata": {},
   "source": [
    "'Garage Type':"
   ]
  },
  {
   "cell_type": "code",
   "execution_count": 16,
   "metadata": {
    "collapsed": false
   },
   "outputs": [
    {
     "data": {
      "text/plain": [
       "Attchd     1731\n",
       "Detchd      782\n",
       "BuiltIn     186\n",
       "NaN         157\n",
       "Basment      36\n",
       "2Types       23\n",
       "CarPort      15\n",
       "Name: Garage Type, dtype: int64"
      ]
     },
     "execution_count": 16,
     "metadata": {},
     "output_type": "execute_result"
    }
   ],
   "source": [
    "data['Garage Type'].value_counts(dropna = False)"
   ]
  },
  {
   "cell_type": "markdown",
   "metadata": {},
   "source": [
    "We can see that this column has 157 nan values. This probably just means that those houses have no garages. So we can again replace them with 'none'"
   ]
  },
  {
   "cell_type": "markdown",
   "metadata": {},
   "source": [
    "The other columns with nan values will be excluded by our functions because of the large ammount of NaN values"
   ]
  },
  {
   "cell_type": "code",
   "execution_count": 17,
   "metadata": {
    "collapsed": false
   },
   "outputs": [
    {
     "name": "stdout",
     "output_type": "stream",
     "text": [
      "157\n",
      "0\n",
      "23\n",
      "0\n"
     ]
    }
   ],
   "source": [
    "df = data.copy()\n",
    "\n",
    "for column in ['Garage Type', 'Mas Vnr Type']:\n",
    "    if column in df.columns:\n",
    "        print(df[column].isnull().sum())\n",
    "        df[column] = df[column].fillna('none')\n",
    "        print(df[column].isnull().sum())"
   ]
  },
  {
   "cell_type": "markdown",
   "metadata": {},
   "source": [
    "Now we will drop the columns, our functions will drop anyways"
   ]
  },
  {
   "cell_type": "code",
   "execution_count": 18,
   "metadata": {
    "collapsed": false
   },
   "outputs": [],
   "source": [
    "for column in ['Misc Feature', 'Alley']:\n",
    "    if column in cat_cols:\n",
    "        cat_cols.remove(column)"
   ]
  },
  {
   "cell_type": "markdown",
   "metadata": {},
   "source": [
    "first we need to turn the columns into the categorical type, Then make dummy columns for their values. Finally we will drop the original columns."
   ]
  },
  {
   "cell_type": "code",
   "execution_count": 19,
   "metadata": {
    "collapsed": false
   },
   "outputs": [],
   "source": [
    "for column in cat_cols:\n",
    "    df[column] = df[column].astype('category')\n",
    "df = pd.concat([df,pd.get_dummies(df.select_dtypes(include = ['category']))], axis = 1)\n",
    "df = df.drop(cat_cols, axis = 1)\n",
    "# dummies = pd.get_dummies(df[column].astype('category'),prefix = column)\n",
    "#     df = pd.concat([df,dummies],axis = 1)\n",
    "#     df = df.drop(columns = column)\n",
    "# astype('category')"
   ]
  },
  {
   "cell_type": "code",
   "execution_count": 20,
   "metadata": {
    "collapsed": false,
    "scrolled": true
   },
   "outputs": [
    {
     "data": {
      "text/plain": [
       "SalePrice          1.000000\n",
       "Overall Qual       0.799262\n",
       "Gr Liv Area        0.706780\n",
       "Garage Cars        0.647877\n",
       "Garage Area        0.640401\n",
       "Total Bsmt SF      0.632280\n",
       "1st Flr SF         0.621676\n",
       "age_sold           0.558907\n",
       "Year Built         0.558426\n",
       "Full Bath          0.545604\n",
       "Year Remod/Add     0.532974\n",
       "Garage Yr Blt      0.526965\n",
       "Mas Vnr Area       0.508285\n",
       "TotRms AbvGrd      0.495474\n",
       "Fireplaces         0.474558\n",
       "BsmtFin SF 1       0.432914\n",
       "Lot Frontage       0.357318\n",
       "Wood Deck SF       0.327143\n",
       "Open Porch SF      0.312951\n",
       "Half Bath          0.285056\n",
       "Bsmt Full Bath     0.276050\n",
       "2nd Flr SF         0.269373\n",
       "Lot Area           0.266549\n",
       "PID                0.246521\n",
       "age_remod          0.240168\n",
       "Bsmt Unf SF        0.182855\n",
       "Bedroom AbvGr      0.143913\n",
       "Enclosed Porch     0.128787\n",
       "Kitchen AbvGr      0.119814\n",
       "Screen Porch       0.112151\n",
       "Overall Cond       0.101697\n",
       "MS SubClass        0.085092\n",
       "Pool Area          0.068403\n",
       "Low Qual Fin SF    0.037660\n",
       "Bsmt Half Bath     0.035835\n",
       "Mo Sold            0.035259\n",
       "3Ssn Porch         0.032225\n",
       "Order              0.031408\n",
       "Yr Sold            0.030569\n",
       "Misc Val           0.015691\n",
       "BsmtFin SF 2       0.005891\n",
       "Name: SalePrice, dtype: float64"
      ]
     },
     "execution_count": 20,
     "metadata": {},
     "output_type": "execute_result"
    }
   ],
   "source": [
    "data.corr().SalePrice.abs().sort_values(ascending = False)"
   ]
  },
  {
   "cell_type": "markdown",
   "metadata": {},
   "source": [
    "We can now include this all in our `transform_features()` and `select_features()` functions:"
   ]
  },
  {
   "cell_type": "code",
   "execution_count": 21,
   "metadata": {
    "collapsed": false
   },
   "outputs": [
    {
     "name": "stdout",
     "output_type": "stream",
     "text": [
      "column banana not in dataframe\n",
      "column Sale Condition not in dataframe\n",
      "column Alley not in dataframe\n",
      "(2930, 138)\n"
     ]
    }
   ],
   "source": [
    "def transform_features(df = data,un_thresh = 10, nan_thresh = 0.05):\n",
    "    drop_cols = ['Year Built', 'Yr Sold', 'Year Remod/Add',\n",
    "                 'Mo Sold', 'banana', 'Order', 'PID',\n",
    "                 \"Sale Condition\", \"Sale Type\", 'Garage Cars', 'Alley']\n",
    "    missing_vals = df.isnull().sum()/df.shape[0]\n",
    "    high_na_cols = df.columns[missing_vals > nan_thresh]\n",
    "    df = df.drop(columns = high_na_cols)\n",
    "    # Turning the nominal columns into categorical dummies:\n",
    "    nominal_features = [\"PID\", \"MS SubClass\", \"MS Zoning\", \"Street\", \"Alley\", \"Land Contour\", \"Lot Config\", \"Neighborhood\", \n",
    "                    \"Condition 1\", \"Condition 2\", \"Bldg Type\", \"House Style\", \"Roof Style\", \"Roof Matl\", \"Exterior 1st\", \n",
    "                    \"Exterior 2nd\", \"Mas Vnr Type\", \"Foundation\", \"Heating\", \"Central Air\", \"Garage Type\", \n",
    "                    \"Misc Feature\", \"Sale Type\", \"Sale Condition\"]\n",
    "    # making the column list for the categorization\n",
    "    cat_cols = []\n",
    "    for column in nominal_features:\n",
    "        if column in df.columns:\n",
    "            uniques = data[column].unique().shape[0]\n",
    "            if uniques < un_thresh:\n",
    "                cat_cols.append(column)\n",
    "                \n",
    "    # replacing the nan values in the two columns that have few\n",
    "    for column in ['Garage Type', 'Mas Vnr Type']:\n",
    "        if column in df.columns:\n",
    "            df[column] = df[column].fillna('none')\n",
    "        \n",
    "    # finally making the dummy columns and concatenating them to df\n",
    "    for column in cat_cols:\n",
    "        df[column] = df[column].astype('category')\n",
    "    df = pd.concat([df,pd.get_dummies(df.select_dtypes(include = ['category']))], axis = 1)\n",
    "    df = df.drop(cat_cols, axis = 1)\n",
    "    \n",
    "    # dropping certain columns by name\n",
    "    for column in drop_cols:\n",
    "        if column in df.columns:\n",
    "            df = df.drop(columns = column)\n",
    "        else:\n",
    "            print('column {} not in dataframe'.format(column))\n",
    "    missing_vals = df.isnull().sum()/df.shape[0]\n",
    "    low_na_num = ((df[missing_vals[(missing_vals > 0) & (missing_vals < 0.05)].index])\n",
    "                  .select_dtypes(include = ['int','float']).columns)\n",
    "    if low_na_num.shape[0] > 0:\n",
    "        df[low_na_num] = df[low_na_num].fillna(df[low_na_num].mode().to_dict(orient='records')[0])\n",
    "    print(df.shape)\n",
    "    return df\n",
    "\n",
    "def select_features(df = transform_features(),corr_thresh = 0.4):\n",
    "    numerical_df = df.select_dtypes(include = ['int','float'])\n",
    "    corr_cols = numerical_df.columns[numerical_df.corr().SalePrice.abs() > corr_thresh]\n",
    "\n",
    "    return numerical_df[corr_cols]\n",
    "\n",
    "def train_and_test(df = select_features()):\n",
    "    # divide the data in a train and test set\n",
    "    sp = df.SalePrice\n",
    "    df.drop(columns = 'SalePrice',inplace = True)\n",
    "    df = (df - df.min()) /(df.max() - df.min())\n",
    "    df = pd.concat([df,sp], axis =1)\n",
    "    train = df.iloc[:1460]\n",
    "    test = df.iloc[1460:]\n",
    "    \n",
    "    # extract features to use and use only the numerical columns\n",
    "    features = train\n",
    "    num_cols = features.select_dtypes(include = ['float','int']).drop(columns = ['SalePrice'])\n",
    "    \n",
    "    # instantiating, training and testing the machine_learning model\n",
    "    lr = LinearRegression()\n",
    "    lr.fit(num_cols, train.SalePrice)\n",
    "    predictions = lr.predict(test[num_cols.columns])\n",
    "    rmse = mean_squared_error(test.SalePrice, predictions)**0.5\n",
    "    return rmse"
   ]
  },
  {
   "cell_type": "code",
   "execution_count": 22,
   "metadata": {
    "collapsed": false
   },
   "outputs": [
    {
     "data": {
      "text/plain": [
       "40838.476842105505"
      ]
     },
     "execution_count": 22,
     "metadata": {},
     "output_type": "execute_result"
    }
   ],
   "source": [
    "train_and_test()"
   ]
  },
  {
   "cell_type": "markdown",
   "metadata": {},
   "source": [
    "Now let's make a more refined model for testing our algorithm:\n",
    "We will add a new parameter k:\n",
    "* if k == 0, we will use the selection process, we have so far:\n",
    "    1. splitting the dataframe at 1460\n",
    "    2. training on the train set\n",
    "    3. testing on the test set and calculating the rmse\n",
    "* if k==1 we will do a cross validation:\n",
    "    1. Shuffle the rows\n",
    "    2. assign the first 1460 rows to a variable called `fold_one`\n",
    "    3. assign the rest to `fold_two`\n",
    "    4. train on `fold_one`, test on `fold_two`\n",
    "    5. train on `fold_two`, test on `fold_one`\n",
    "    6. calculate the average rmse\n",
    "   "
   ]
  },
  {
   "cell_type": "code",
   "execution_count": 48,
   "metadata": {
    "collapsed": false
   },
   "outputs": [
    {
     "name": "stdout",
     "output_type": "stream",
     "text": [
      "column banana not in dataframe\n",
      "column Sale Condition not in dataframe\n",
      "column Alley not in dataframe\n",
      "(2930, 138)\n",
      "35181.29274302897\n"
     ]
    }
   ],
   "source": [
    "np.random.seed(1)\n",
    "df = transform_features(data)\n",
    "df = select_features(df)\n",
    "\n",
    "#randomizing the dataset's rows\n",
    "shuffled_index = np.random.permutation(df.shape[0])\n",
    "df = df.iloc[shuffled_index].reset_index().drop('index', axis = 1)\n",
    "\n",
    "# making the two training sets\n",
    "fold_one = df.iloc[:1460].copy()\n",
    "fold_two = df.iloc[1460:].copy()\n",
    "fold_one_sp = fold_one.SalePrice.copy()\n",
    "fold_one.drop(columns = 'SalePrice', inplace = True)\n",
    "fold_two_sp = fold_two.SalePrice.copy()\n",
    "fold_two.drop(columns = 'SalePrice', inplace = True)\n",
    "\n",
    "#training models and calculating the rmses\n",
    "lr = LinearRegression()\n",
    "\n",
    "lr.fit(fold_one, fold_one_sp)\n",
    "predicts_f_1 = lr.predict(fold_two)\n",
    "rmse1 = mean_squared_error(fold_two_sp, predicts_f_1)**0.5\n",
    "\n",
    "lr.fit(fold_two, fold_two_sp)\n",
    "predicts_f_2 = lr.predict(fold_one)\n",
    "rmse2 = mean_squared_error(fold_one_sp, predicts_f_2)**0.5\n",
    "print((rmse1+rmse2)/2)"
   ]
  },
  {
   "cell_type": "markdown",
   "metadata": {
    "collapsed": true
   },
   "source": [
    "let's add this functionality to `train_test()`:"
   ]
  },
  {
   "cell_type": "code",
   "execution_count": 49,
   "metadata": {
    "collapsed": false,
    "scrolled": true
   },
   "outputs": [
    {
     "name": "stdout",
     "output_type": "stream",
     "text": [
      "column banana not in dataframe\n",
      "column Sale Condition not in dataframe\n",
      "column Alley not in dataframe\n",
      "(2930, 138)\n"
     ]
    }
   ],
   "source": [
    "def transform_features(df = data,un_thresh = 10, nan_thresh = 0.05):\n",
    "    drop_cols = ['Year Built', 'Yr Sold', 'Year Remod/Add',\n",
    "                 'Mo Sold', 'banana', 'Order', 'PID',\n",
    "                 \"Sale Condition\", \"Sale Type\", 'Garage Cars', 'Alley']\n",
    "    missing_vals = df.isnull().sum()/df.shape[0]\n",
    "    high_na_cols = df.columns[missing_vals > nan_thresh]\n",
    "    df = df.drop(columns = high_na_cols)\n",
    "    # Turning the nominal columns into categorical dummies:\n",
    "    nominal_features = [\"PID\", \"MS SubClass\", \"MS Zoning\", \"Street\", \"Alley\", \"Land Contour\", \"Lot Config\", \"Neighborhood\", \n",
    "                    \"Condition 1\", \"Condition 2\", \"Bldg Type\", \"House Style\", \"Roof Style\", \"Roof Matl\", \"Exterior 1st\", \n",
    "                    \"Exterior 2nd\", \"Mas Vnr Type\", \"Foundation\", \"Heating\", \"Central Air\", \"Garage Type\", \n",
    "                    \"Misc Feature\", \"Sale Type\", \"Sale Condition\"]\n",
    "    # making the column list for the categorization\n",
    "    cat_cols = []\n",
    "    for column in nominal_features:\n",
    "        if column in df.columns:\n",
    "            uniques = data[column].unique().shape[0]\n",
    "            if uniques < un_thresh:\n",
    "                cat_cols.append(column)\n",
    "                \n",
    "    # replacing the nan values in the two columns that have few\n",
    "    for column in ['Garage Type', 'Mas Vnr Type']:\n",
    "        if column in df.columns:\n",
    "            df[column] = df[column].fillna('none')\n",
    "        \n",
    "    # finally making the dummy columns and concatenating them to df\n",
    "    for column in cat_cols:\n",
    "        df[column] = df[column].astype('category')\n",
    "    df = pd.concat([df,pd.get_dummies(df.select_dtypes(include = ['category']))], axis = 1)\n",
    "    df = df.drop(cat_cols, axis = 1)\n",
    "    \n",
    "    # dropping certain columns by name\n",
    "    for column in drop_cols:\n",
    "        if column in df.columns:\n",
    "            df = df.drop(columns = column)\n",
    "        else:\n",
    "            print('column {} not in dataframe'.format(column))\n",
    "    missing_vals = df.isnull().sum()/df.shape[0]\n",
    "    low_na_num = ((df[missing_vals[(missing_vals > 0) & (missing_vals < 0.05)].index])\n",
    "                  .select_dtypes(include = ['int','float']).columns)\n",
    "    if low_na_num.shape[0] > 0:\n",
    "        df[low_na_num] = df[low_na_num].fillna(df[low_na_num].mode().to_dict(orient='records')[0])\n",
    "    print(df.shape)\n",
    "    return df\n",
    "\n",
    "def select_features(df = transform_features(),corr_thresh = 0.4):\n",
    "    numerical_df = df.select_dtypes(include = ['int','float'])\n",
    "    corr_cols = numerical_df.columns[numerical_df.corr().SalePrice.abs() > corr_thresh]\n",
    "\n",
    "    return numerical_df[corr_cols]\n",
    "\n",
    "def train_and_test(df = select_features(), k = 0):\n",
    "    if k == 0:\n",
    "        # divide the data in a train and test set\n",
    "        sp = df.SalePrice\n",
    "        df.drop(columns = 'SalePrice',inplace = True)\n",
    "        df = (df - df.min()) /(df.max() - df.min())\n",
    "        df = pd.concat([df,sp], axis =1)\n",
    "        train = df.iloc[:1460]\n",
    "        test = df.iloc[1460:]\n",
    "    \n",
    "        # extract features to use and use only the numerical columns\n",
    "        features = train\n",
    "        num_cols = features.select_dtypes(include = ['float','int']).drop(columns = ['SalePrice'])\n",
    "    \n",
    "        # instantiating, training and testing the machine_learning model\n",
    "        lr = LinearRegression()\n",
    "        lr.fit(num_cols, train.SalePrice)\n",
    "        predictions = lr.predict(test[num_cols.columns])\n",
    "        rmse = mean_squared_error(test.SalePrice, predictions)**0.5\n",
    "        return rmse\n",
    "    if k == 1:\n",
    "        np.random.seed(1)\n",
    "\n",
    "        #randomizing the dataset's rows\n",
    "        shuffled_index = np.random.permutation(df.shape[0])\n",
    "        df = df.iloc[shuffled_index].reset_index().drop('index', axis = 1)\n",
    "\n",
    "        # making the two training sets\n",
    "        fold_one = df.iloc[:1460].copy()\n",
    "        fold_two = df.iloc[1460:].copy()\n",
    "        fold_one_sp = fold_one.SalePrice.copy()\n",
    "        fold_one.drop(columns = 'SalePrice', inplace = True)\n",
    "        fold_two_sp = fold_two.SalePrice.copy()\n",
    "        fold_two.drop(columns = 'SalePrice', inplace = True)\n",
    "\n",
    "        #training models and calculating the rmses\n",
    "        lr = LinearRegression()\n",
    "\n",
    "        lr.fit(fold_one, fold_one_sp)\n",
    "        predicts_f_1 = lr.predict(fold_two)\n",
    "        rmse1 = mean_squared_error(fold_two_sp, predicts_f_1)**0.5\n",
    "\n",
    "        lr.fit(fold_two, fold_two_sp)\n",
    "        predicts_f_2 = lr.predict(fold_one)\n",
    "        rmse2 = mean_squared_error(fold_one_sp, predicts_f_2)**0.5\n",
    "        return (rmse1+rmse2)/2        "
   ]
  },
  {
   "cell_type": "code",
   "execution_count": 50,
   "metadata": {
    "collapsed": false
   },
   "outputs": [
    {
     "data": {
      "text/plain": [
       "35181.29274302897"
      ]
     },
     "execution_count": 50,
     "metadata": {},
     "output_type": "execute_result"
    }
   ],
   "source": [
    "train_and_test(k = 1)"
   ]
  },
  {
   "cell_type": "code",
   "execution_count": 51,
   "metadata": {
    "collapsed": false
   },
   "outputs": [
    {
     "data": {
      "text/plain": [
       "40838.476842105505"
      ]
     },
     "execution_count": 51,
     "metadata": {},
     "output_type": "execute_result"
    }
   ],
   "source": [
    "train_and_test()"
   ]
  }
 ],
 "metadata": {
  "anaconda-cloud": {},
  "kernelspec": {
   "display_name": "Python 3",
   "language": "python",
   "name": "python3"
  },
  "language_info": {
   "codemirror_mode": {
    "name": "ipython",
    "version": 3
   },
   "file_extension": ".py",
   "mimetype": "text/x-python",
   "name": "python",
   "nbconvert_exporter": "python",
   "pygments_lexer": "ipython3",
   "version": "3.4.3"
  }
 },
 "nbformat": 4,
 "nbformat_minor": 2
}
