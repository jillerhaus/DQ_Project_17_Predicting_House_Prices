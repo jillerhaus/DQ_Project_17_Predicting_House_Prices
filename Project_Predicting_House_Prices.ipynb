{
 "cells": [
  {
   "cell_type": "markdown",
   "metadata": {},
   "source": [
    "# Predicting House Prices Using Machine Learning\n",
    "\n",
    "In this Project a dataset of previously sold houses will be analyzed. A linear regression machine learning model will be trained and tested on its ability to predict sale prices.\n",
    "\n",
    "The [dataset](https://www.tandfonline.com/doi/abs/10.1080/10691898.2011.11889627) is made up of data on houses sold in Ames, Iowa in the years between from 2006 to 2010. The dataset contains many features describing important attributes of every one of the houses sold."
   ]
  },
  {
   "cell_type": "markdown",
   "metadata": {},
   "source": [
    "## Setup"
   ]
  },
  {
   "cell_type": "code",
   "execution_count": 1,
   "metadata": {},
   "outputs": [],
   "source": [
    "# imports\n",
    "import numpy as np\n",
    "import pandas as pd\n",
    "from sklearn.linear_model import LinearRegression\n",
    "from sklearn.metrics import mean_squared_error\n",
    "import matplotlib.pyplot as plt\n",
    "import re\n",
    "import seaborn as sns\n",
    "%matplotlib inline"
   ]
  },
  {
   "cell_type": "code",
   "execution_count": 2,
   "metadata": {},
   "outputs": [],
   "source": [
    "# load the data into a Pandas DataFrame\n",
    "data = pd.read_csv('AmesHousing.tsv', delimiter= '\\t')"
   ]
  },
  {
   "cell_type": "code",
   "execution_count": 3,
   "metadata": {},
   "outputs": [
    {
     "data": {
      "text/html": [
       "<div>\n",
       "<style scoped>\n",
       "    .dataframe tbody tr th:only-of-type {\n",
       "        vertical-align: middle;\n",
       "    }\n",
       "\n",
       "    .dataframe tbody tr th {\n",
       "        vertical-align: top;\n",
       "    }\n",
       "\n",
       "    .dataframe thead th {\n",
       "        text-align: right;\n",
       "    }\n",
       "</style>\n",
       "<table border=\"1\" class=\"dataframe\">\n",
       "  <thead>\n",
       "    <tr style=\"text-align: right;\">\n",
       "      <th></th>\n",
       "      <th>Order</th>\n",
       "      <th>PID</th>\n",
       "      <th>MS SubClass</th>\n",
       "      <th>MS Zoning</th>\n",
       "      <th>Lot Frontage</th>\n",
       "      <th>Lot Area</th>\n",
       "      <th>Street</th>\n",
       "      <th>Alley</th>\n",
       "      <th>Lot Shape</th>\n",
       "      <th>Land Contour</th>\n",
       "      <th>...</th>\n",
       "      <th>Pool Area</th>\n",
       "      <th>Pool QC</th>\n",
       "      <th>Fence</th>\n",
       "      <th>Misc Feature</th>\n",
       "      <th>Misc Val</th>\n",
       "      <th>Mo Sold</th>\n",
       "      <th>Yr Sold</th>\n",
       "      <th>Sale Type</th>\n",
       "      <th>Sale Condition</th>\n",
       "      <th>SalePrice</th>\n",
       "    </tr>\n",
       "  </thead>\n",
       "  <tbody>\n",
       "    <tr>\n",
       "      <th>0</th>\n",
       "      <td>1</td>\n",
       "      <td>526301100</td>\n",
       "      <td>20</td>\n",
       "      <td>RL</td>\n",
       "      <td>141.0</td>\n",
       "      <td>31770</td>\n",
       "      <td>Pave</td>\n",
       "      <td>NaN</td>\n",
       "      <td>IR1</td>\n",
       "      <td>Lvl</td>\n",
       "      <td>...</td>\n",
       "      <td>0</td>\n",
       "      <td>NaN</td>\n",
       "      <td>NaN</td>\n",
       "      <td>NaN</td>\n",
       "      <td>0</td>\n",
       "      <td>5</td>\n",
       "      <td>2010</td>\n",
       "      <td>WD</td>\n",
       "      <td>Normal</td>\n",
       "      <td>215000</td>\n",
       "    </tr>\n",
       "    <tr>\n",
       "      <th>1</th>\n",
       "      <td>2</td>\n",
       "      <td>526350040</td>\n",
       "      <td>20</td>\n",
       "      <td>RH</td>\n",
       "      <td>80.0</td>\n",
       "      <td>11622</td>\n",
       "      <td>Pave</td>\n",
       "      <td>NaN</td>\n",
       "      <td>Reg</td>\n",
       "      <td>Lvl</td>\n",
       "      <td>...</td>\n",
       "      <td>0</td>\n",
       "      <td>NaN</td>\n",
       "      <td>MnPrv</td>\n",
       "      <td>NaN</td>\n",
       "      <td>0</td>\n",
       "      <td>6</td>\n",
       "      <td>2010</td>\n",
       "      <td>WD</td>\n",
       "      <td>Normal</td>\n",
       "      <td>105000</td>\n",
       "    </tr>\n",
       "    <tr>\n",
       "      <th>2</th>\n",
       "      <td>3</td>\n",
       "      <td>526351010</td>\n",
       "      <td>20</td>\n",
       "      <td>RL</td>\n",
       "      <td>81.0</td>\n",
       "      <td>14267</td>\n",
       "      <td>Pave</td>\n",
       "      <td>NaN</td>\n",
       "      <td>IR1</td>\n",
       "      <td>Lvl</td>\n",
       "      <td>...</td>\n",
       "      <td>0</td>\n",
       "      <td>NaN</td>\n",
       "      <td>NaN</td>\n",
       "      <td>Gar2</td>\n",
       "      <td>12500</td>\n",
       "      <td>6</td>\n",
       "      <td>2010</td>\n",
       "      <td>WD</td>\n",
       "      <td>Normal</td>\n",
       "      <td>172000</td>\n",
       "    </tr>\n",
       "    <tr>\n",
       "      <th>3</th>\n",
       "      <td>4</td>\n",
       "      <td>526353030</td>\n",
       "      <td>20</td>\n",
       "      <td>RL</td>\n",
       "      <td>93.0</td>\n",
       "      <td>11160</td>\n",
       "      <td>Pave</td>\n",
       "      <td>NaN</td>\n",
       "      <td>Reg</td>\n",
       "      <td>Lvl</td>\n",
       "      <td>...</td>\n",
       "      <td>0</td>\n",
       "      <td>NaN</td>\n",
       "      <td>NaN</td>\n",
       "      <td>NaN</td>\n",
       "      <td>0</td>\n",
       "      <td>4</td>\n",
       "      <td>2010</td>\n",
       "      <td>WD</td>\n",
       "      <td>Normal</td>\n",
       "      <td>244000</td>\n",
       "    </tr>\n",
       "    <tr>\n",
       "      <th>4</th>\n",
       "      <td>5</td>\n",
       "      <td>527105010</td>\n",
       "      <td>60</td>\n",
       "      <td>RL</td>\n",
       "      <td>74.0</td>\n",
       "      <td>13830</td>\n",
       "      <td>Pave</td>\n",
       "      <td>NaN</td>\n",
       "      <td>IR1</td>\n",
       "      <td>Lvl</td>\n",
       "      <td>...</td>\n",
       "      <td>0</td>\n",
       "      <td>NaN</td>\n",
       "      <td>MnPrv</td>\n",
       "      <td>NaN</td>\n",
       "      <td>0</td>\n",
       "      <td>3</td>\n",
       "      <td>2010</td>\n",
       "      <td>WD</td>\n",
       "      <td>Normal</td>\n",
       "      <td>189900</td>\n",
       "    </tr>\n",
       "  </tbody>\n",
       "</table>\n",
       "<p>5 rows × 82 columns</p>\n",
       "</div>"
      ],
      "text/plain": [
       "   Order        PID  MS SubClass MS Zoning  Lot Frontage  Lot Area Street  \\\n",
       "0      1  526301100           20        RL         141.0     31770   Pave   \n",
       "1      2  526350040           20        RH          80.0     11622   Pave   \n",
       "2      3  526351010           20        RL          81.0     14267   Pave   \n",
       "3      4  526353030           20        RL          93.0     11160   Pave   \n",
       "4      5  527105010           60        RL          74.0     13830   Pave   \n",
       "\n",
       "  Alley Lot Shape Land Contour  ... Pool Area Pool QC  Fence Misc Feature  \\\n",
       "0   NaN       IR1          Lvl  ...         0     NaN    NaN          NaN   \n",
       "1   NaN       Reg          Lvl  ...         0     NaN  MnPrv          NaN   \n",
       "2   NaN       IR1          Lvl  ...         0     NaN    NaN         Gar2   \n",
       "3   NaN       Reg          Lvl  ...         0     NaN    NaN          NaN   \n",
       "4   NaN       IR1          Lvl  ...         0     NaN  MnPrv          NaN   \n",
       "\n",
       "  Misc Val Mo Sold Yr Sold Sale Type  Sale Condition  SalePrice  \n",
       "0        0       5    2010       WD           Normal     215000  \n",
       "1        0       6    2010       WD           Normal     105000  \n",
       "2    12500       6    2010       WD           Normal     172000  \n",
       "3        0       4    2010       WD           Normal     244000  \n",
       "4        0       3    2010       WD           Normal     189900  \n",
       "\n",
       "[5 rows x 82 columns]"
      ]
     },
     "execution_count": 3,
     "metadata": {},
     "output_type": "execute_result"
    }
   ],
   "source": [
    "data.head()"
   ]
  },
  {
   "cell_type": "markdown",
   "metadata": {},
   "source": [
    "## Feature engineering:\n",
    "\n",
    "Now a number of features will be prepared for use by the machine learning model. This is a very important step in any machine learning project, because using poorly suited features can greatly reduce the accuracy of any machine learning model. This is especially important for linear regression models because they are very limited and very dependent on well selected and engineered features, because for them to be accurate, the features have to have a linear relation to the target value.\n",
    "\n",
    "The first step in feature engineering will be to add two columns that describe the age a building was sold or remodeled at. This should hopefully be more useful to a linear regression model than using the year. If two houses were compared, one remodeled in 2010 and one in 1950, these two dates would have a very small impact on a linear regression model even though their remodel was 60 years apart."
   ]
  },
  {
   "cell_type": "code",
   "execution_count": 4,
   "metadata": {},
   "outputs": [],
   "source": [
    "age_sold = data['Yr Sold'] - data['Year Built']\n",
    "age_remod = data['Year Remod/Add'] - data['Year Built']\n",
    "\n",
    "data['age_sold'] = age_sold\n",
    "data['age_remod'] = age_remod"
   ]
  },
  {
   "cell_type": "markdown",
   "metadata": {},
   "source": [
    "`transform_features()`:\n",
    "\n",
    "This function's goal is to select and engineer the features for the linear regression model:\n",
    "\n",
    "1. Dropping all columns with more than a given amount of NaN values (currently 5%).\n",
    "2. replacing the values in columns with between 0 & 5% NaN values with the mode for that column.\n",
    "\n",
    "Eliminating all NaN values is very important, because machine learning models cannot make predictions on them. `scikit learn`, the model used to train and test the model will throw errors if the user tries to fit a model on a dataset containing NaN values, but using them in general can lead to faulty and inaccurate models, that behave in unexpected ways.\n",
    "\n",
    "3. Certain columns are dropped by name directly, as they don't contribute useful information or are otherwise not useful for machine learning. These are also columns that can leak the sale price without providing information about the building itself. They can be found in the list `drop_cols`\n",
    "\n",
    "Columns that are unsuited for machine learning models and in this case ones that do not have a linear relation to the target column can reduce the accuracy of a machine learning model, since they are also taken into consideration when making predictions, thus reducing the impact of the well-suited models on the resulting prediction.\n",
    "\n",
    "Columns, that contain direct information about the target column would not be available in a scenario where the model is used to make predictions on unknown sets of data, which is the primary use for machine learning models"
   ]
  },
  {
   "cell_type": "code",
   "execution_count": 5,
   "metadata": {},
   "outputs": [],
   "source": [
    "def transform_features(df):\n",
    "    '''Engineer and select features for use by a linear regression model\n",
    "    Args:\n",
    "        df (pandas.DataFrame): DataFrame containing features\n",
    "    Returns:\n",
    "        pandas.DataFrame with a select number of improved features\n",
    "    '''\n",
    "    drop_cols = ['Year Built', 'Yr Sold', 'Year Remod/Add',\n",
    "                 'Mo Sold', 'banana', 'Order', 'PID',\n",
    "                 \"Sale Condition\", \"Sale Type\", 'Garage Cars']\n",
    "    missing_vals = df.isnull().sum()/df.shape[0]\n",
    "    high_na_cols = df.columns[missing_vals > 0.05]\n",
    "    df = df.drop(columns = high_na_cols)\n",
    "#     sale_cols = df.columns[df.columns.str.contains('sold', flags = re.I)]\n",
    "#     df = df.drop(columns = sale_cols)\n",
    "    \n",
    "    # dropping columns by name\n",
    "    for column in drop_cols:\n",
    "        if column in df.columns:\n",
    "            df = df.drop(columns = column)\n",
    "        else:\n",
    "            print('column {} not in dataframe'.format(column))\n",
    "\n",
    "    missing_vals = df.isnull().sum()/df.shape[0]\n",
    "    low_na_num = ((df[missing_vals[(missing_vals > 0) & (missing_vals < 0.05)].index])\n",
    "                  .select_dtypes(include = ['int64','float64']).columns)\n",
    "    if low_na_num.shape[0] > 0:\n",
    "        df[low_na_num] = df[low_na_num].fillna(df[low_na_num].mode().to_dict(orient='records')[0])\n",
    "        \n",
    "    return df"
   ]
  },
  {
   "cell_type": "markdown",
   "metadata": {},
   "source": [
    "`select_features()`:\n",
    "\n",
    "This function selects the columns from the DataFrame for use as features. This selection is based on two conditions:\n",
    "\n",
    "1. The column must be of a numeric type\n",
    "2. The column has to have a correlation value with the target value above a given threshold (0.4)"
   ]
  },
  {
   "cell_type": "code",
   "execution_count": 6,
   "metadata": {},
   "outputs": [],
   "source": [
    "def select_features(df):\n",
    "    '''Select features out of a dataframe\n",
    "    Args:\n",
    "        df (pandas.DataFrame): DataFrame to process\n",
    "    Returns:\n",
    "        pandas.DataFrame with only the selected columns\n",
    "    '''\n",
    "    numerical_df = df.select_dtypes(include = ['int','float'])\n",
    "    corr_cols = numerical_df.columns[numerical_df.corr().SalePrice.abs() > 0.4]\n",
    "\n",
    "    return data[numerical_df[corr_cols]]"
   ]
  },
  {
   "cell_type": "markdown",
   "metadata": {},
   "source": [
    "`train_and_test()`:\n",
    "\n",
    "This function automatically trains and tests a linear regression model.\n",
    "The function:\n",
    "\n",
    "1. divides the dataset into a training function and a test set\n",
    "2. calls the `select_features()` function to get cleaned data from the sets\n",
    "3. instantiates, trains and tests a machine learning model using the linear regression model and the scikit learn module.It tests the accuracy of the model by calculating the root mean squared error when comparing the model's prediction of the `SalePrice` of the house to the value in the test set."
   ]
  },
  {
   "cell_type": "code",
   "execution_count": 7,
   "metadata": {},
   "outputs": [],
   "source": [
    "def train_and_test(df):\n",
    "    '''Train and test a linear regression model\n",
    "    Args:\n",
    "        df (pandas.DataFrame): DataFrame to train and test the model on\n",
    "    Returns:\n",
    "        float: The root mean squared error of the model\n",
    "    '''\n",
    "    # divide the data in a train and test set\n",
    "    train = df.iloc[:1460]\n",
    "    test = df.iloc[1460:]\n",
    "    \n",
    "    # extract features to use and use only the numerical columns\n",
    "    features = train\n",
    "    num_cols = features.select_dtypes(include = ['float','int']).drop(columns = ['SalePrice'])\n",
    "    \n",
    "    # instantiating, training and testing the machine_learning model\n",
    "    lr = LinearRegression()\n",
    "    lr.fit(num_cols, train.SalePrice)\n",
    "    predictions = lr.predict(test[num_cols.columns])\n",
    "    rmse = mean_squared_error(test.SalePrice, predictions)**0.5\n",
    "    return rmse"
   ]
  },
  {
   "cell_type": "markdown",
   "metadata": {},
   "source": [
    "## Feature Selection:\n",
    "\n",
    "An important part of preparing data for use by the model is to select the best features. In this process, it is important to make sure the features selected do not contain redundant information, because this information would be used multiple times, biasing the model.\n",
    "\n",
    "A correlation heatmap can be used to quickly identify some sources of redundant information, because these columns will correlate quite strongly with each other."
   ]
  },
  {
   "cell_type": "code",
   "execution_count": 8,
   "metadata": {},
   "outputs": [
    {
     "name": "stdout",
     "output_type": "stream",
     "text": [
      "column banana not in dataframe\n"
     ]
    },
    {
     "data": {
      "text/plain": [
       "<matplotlib.axes._subplots.AxesSubplot at 0x242f4fadb08>"
      ]
     },
     "execution_count": 8,
     "metadata": {},
     "output_type": "execute_result"
    },
    {
     "data": {
      "image/png": "[encoded data removed]",
      "text/plain": [
       "<Figure size 720x720 with 2 Axes>"
      ]
     },
     "metadata": {
      "needs_background": "light"
     },
     "output_type": "display_data"
    }
   ],
   "source": [
    "numerical_df = transform_features(data).select_dtypes(include = ['int64','float64'])\n",
    "\n",
    "plt.figure(figsize = (10,10))\n",
    "plt.title('Correlation Heatmap of the Features')\n",
    "sns.heatmap(numerical_df.corr())"
   ]
  },
  {
   "cell_type": "markdown",
   "metadata": {},
   "source": [
    "The graph above shows several groups of redundant information:\n",
    "\n",
    "* `garage_cars` and `garage_area` are redundant. Since it is more granular and provides more information, `garage_area` will be used while `garage_cars` will be dropped. \n",
    "\n",
    "* With other correlations it is not clear if the information is redundant or important. For example, of course the area of the basement is very closely related to that of the ground floor, since the ground floor is built on top of the basement, but they both contribute to the total area of the house. So if one of them is dropped, they would contribute less than the other, higher floors."
   ]
  },
  {
   "cell_type": "markdown",
   "metadata": {},
   "source": [
    "## Feature selection: Target column:\n",
    "\n",
    "Another important criterion for selecting columns is how strongly they correlate to the target column. This can give an idea of how valuable they might be to the model when making a prediction. A correlation value that is higher than expected can also reveal columns that contain direct information on the target column. This type of information would cause the model to perform unreasonably well and at the same time cause it to not be applicable to new data, where the target column as well as all columns directly containing information on the target value would not be available.\n",
    "\n",
    "Now all columns with an absolute correlation value of less than 0.4 will be removed."
   ]
  },
  {
   "cell_type": "code",
   "execution_count": 9,
   "metadata": {},
   "outputs": [],
   "source": [
    "corr_cols = numerical_df.columns[numerical_df.corr().SalePrice.abs() > 0.4]"
   ]
  },
  {
   "cell_type": "code",
   "execution_count": 10,
   "metadata": {
    "scrolled": false
   },
   "outputs": [
    {
     "data": {
      "text/html": [
       "<div>\n",
       "<style scoped>\n",
       "    .dataframe tbody tr th:only-of-type {\n",
       "        vertical-align: middle;\n",
       "    }\n",
       "\n",
       "    .dataframe tbody tr th {\n",
       "        vertical-align: top;\n",
       "    }\n",
       "\n",
       "    .dataframe thead th {\n",
       "        text-align: right;\n",
       "    }\n",
       "</style>\n",
       "<table border=\"1\" class=\"dataframe\">\n",
       "  <thead>\n",
       "    <tr style=\"text-align: right;\">\n",
       "      <th></th>\n",
       "      <th>Overall Qual</th>\n",
       "      <th>Mas Vnr Area</th>\n",
       "      <th>BsmtFin SF 1</th>\n",
       "      <th>Total Bsmt SF</th>\n",
       "      <th>1st Flr SF</th>\n",
       "      <th>Gr Liv Area</th>\n",
       "      <th>Full Bath</th>\n",
       "      <th>TotRms AbvGrd</th>\n",
       "      <th>Fireplaces</th>\n",
       "      <th>Garage Area</th>\n",
       "      <th>SalePrice</th>\n",
       "      <th>age_sold</th>\n",
       "    </tr>\n",
       "  </thead>\n",
       "  <tbody>\n",
       "    <tr>\n",
       "      <th>0</th>\n",
       "      <td>6</td>\n",
       "      <td>112.0</td>\n",
       "      <td>639.0</td>\n",
       "      <td>1080.0</td>\n",
       "      <td>1656</td>\n",
       "      <td>1656</td>\n",
       "      <td>1</td>\n",
       "      <td>7</td>\n",
       "      <td>2</td>\n",
       "      <td>528.0</td>\n",
       "      <td>215000</td>\n",
       "      <td>50</td>\n",
       "    </tr>\n",
       "    <tr>\n",
       "      <th>1</th>\n",
       "      <td>5</td>\n",
       "      <td>0.0</td>\n",
       "      <td>468.0</td>\n",
       "      <td>882.0</td>\n",
       "      <td>896</td>\n",
       "      <td>896</td>\n",
       "      <td>1</td>\n",
       "      <td>5</td>\n",
       "      <td>0</td>\n",
       "      <td>730.0</td>\n",
       "      <td>105000</td>\n",
       "      <td>49</td>\n",
       "    </tr>\n",
       "    <tr>\n",
       "      <th>2</th>\n",
       "      <td>6</td>\n",
       "      <td>108.0</td>\n",
       "      <td>923.0</td>\n",
       "      <td>1329.0</td>\n",
       "      <td>1329</td>\n",
       "      <td>1329</td>\n",
       "      <td>1</td>\n",
       "      <td>6</td>\n",
       "      <td>0</td>\n",
       "      <td>312.0</td>\n",
       "      <td>172000</td>\n",
       "      <td>52</td>\n",
       "    </tr>\n",
       "    <tr>\n",
       "      <th>3</th>\n",
       "      <td>7</td>\n",
       "      <td>0.0</td>\n",
       "      <td>1065.0</td>\n",
       "      <td>2110.0</td>\n",
       "      <td>2110</td>\n",
       "      <td>2110</td>\n",
       "      <td>2</td>\n",
       "      <td>8</td>\n",
       "      <td>2</td>\n",
       "      <td>522.0</td>\n",
       "      <td>244000</td>\n",
       "      <td>42</td>\n",
       "    </tr>\n",
       "    <tr>\n",
       "      <th>4</th>\n",
       "      <td>5</td>\n",
       "      <td>0.0</td>\n",
       "      <td>791.0</td>\n",
       "      <td>928.0</td>\n",
       "      <td>928</td>\n",
       "      <td>1629</td>\n",
       "      <td>2</td>\n",
       "      <td>6</td>\n",
       "      <td>1</td>\n",
       "      <td>482.0</td>\n",
       "      <td>189900</td>\n",
       "      <td>13</td>\n",
       "    </tr>\n",
       "  </tbody>\n",
       "</table>\n",
       "</div>"
      ],
      "text/plain": [
       "   Overall Qual  Mas Vnr Area  BsmtFin SF 1  Total Bsmt SF  1st Flr SF  \\\n",
       "0             6         112.0         639.0         1080.0        1656   \n",
       "1             5           0.0         468.0          882.0         896   \n",
       "2             6         108.0         923.0         1329.0        1329   \n",
       "3             7           0.0        1065.0         2110.0        2110   \n",
       "4             5           0.0         791.0          928.0         928   \n",
       "\n",
       "   Gr Liv Area  Full Bath  TotRms AbvGrd  Fireplaces  Garage Area  SalePrice  \\\n",
       "0         1656          1              7           2        528.0     215000   \n",
       "1          896          1              5           0        730.0     105000   \n",
       "2         1329          1              6           0        312.0     172000   \n",
       "3         2110          2              8           2        522.0     244000   \n",
       "4         1629          2              6           1        482.0     189900   \n",
       "\n",
       "   age_sold  \n",
       "0        50  \n",
       "1        49  \n",
       "2        52  \n",
       "3        42  \n",
       "4        13  "
      ]
     },
     "execution_count": 10,
     "metadata": {},
     "output_type": "execute_result"
    }
   ],
   "source": [
    "numerical_df[corr_cols].head()"
   ]
  },
  {
   "cell_type": "code",
   "execution_count": 11,
   "metadata": {},
   "outputs": [
    {
     "data": {
      "text/plain": [
       "Index(['Overall Qual', 'Mas Vnr Area', 'BsmtFin SF 1', 'Total Bsmt SF',\n",
       "       '1st Flr SF', 'Gr Liv Area', 'Full Bath', 'TotRms AbvGrd', 'Fireplaces',\n",
       "       'Garage Area', 'SalePrice', 'age_sold'],\n",
       "      dtype='object')"
      ]
     },
     "execution_count": 11,
     "metadata": {},
     "output_type": "execute_result"
    }
   ],
   "source": [
    "corr_cols"
   ]
  },
  {
   "cell_type": "code",
   "execution_count": 12,
   "metadata": {},
   "outputs": [
    {
     "data": {
      "text/plain": [
       "<matplotlib.axes._subplots.AxesSubplot at 0x242f53cbd08>"
      ]
     },
     "execution_count": 12,
     "metadata": {},
     "output_type": "execute_result"
    },
    {
     "data": {
      "image/png": "[encoded data removed]",
      "text/plain": [
       "<Figure size 720x720 with 2 Axes>"
      ]
     },
     "metadata": {
      "needs_background": "light"
     },
     "output_type": "display_data"
    }
   ],
   "source": [
    "plt.figure(figsize = (10,10))\n",
    "plt.title('Correlation Heatmap of the Features')\n",
    "sns.heatmap(numerical_df[corr_cols].corr())"
   ]
  },
  {
   "cell_type": "markdown",
   "metadata": {},
   "source": [
    "## Analysis\n",
    "\n",
    "None of the remaining columns have any direct information about the target column, `SalePrice`. All of them could be used when training the model."
   ]
  },
  {
   "cell_type": "markdown",
   "metadata": {},
   "source": [
    "## Updated functions:"
   ]
  },
  {
   "cell_type": "code",
   "execution_count": 13,
   "metadata": {},
   "outputs": [
    {
     "name": "stdout",
     "output_type": "stream",
     "text": [
      "column banana not in dataframe\n",
      "column Alley not in dataframe\n"
     ]
    }
   ],
   "source": [
    "def transform_features(df = data):\n",
    "    '''Engineer and select features for use by a linear regression model\n",
    "    Args:\n",
    "        df = data (pandas.DataFrame): DataFrame containing features\n",
    "    Returns:\n",
    "        pandas.DataFrame with a select number of improved features\n",
    "    '''\n",
    "    drop_cols = ['Year Built', 'Yr Sold', 'Year Remod/Add',\n",
    "                 'Mo Sold', 'banana', 'Order', 'PID',\n",
    "                 \"Sale Condition\", \"Sale Type\", 'Garage Cars', 'Alley']\n",
    "    missing_vals = df.isnull().sum()/df.shape[0]\n",
    "    high_na_cols = df.columns[missing_vals > 0.05]\n",
    "    df = df.drop(columns = high_na_cols)\n",
    "    for column in drop_cols:\n",
    "        if column in df.columns:\n",
    "            df = df.drop(columns = column)\n",
    "        else:\n",
    "            print('column {} not in dataframe'.format(column))\n",
    "    missing_vals = df.isnull().sum()/df.shape[0]\n",
    "    low_na_num = ((df[missing_vals[(missing_vals > 0) & (missing_vals < 0.05)].index])\n",
    "                  .select_dtypes(include = ['int64','float64']).columns)\n",
    "    if low_na_num.shape[0] > 0:\n",
    "        df[low_na_num] = df[low_na_num].fillna(df[low_na_num].mode().to_dict(orient='records')[0])\n",
    "        \n",
    "    return df\n",
    "\n",
    "def select_features(df = transform_features()):\n",
    "    '''Select features out of a dataframe\n",
    "    Args:\n",
    "        df = transform_features() (pandas.DataFrame): DataFrame to process\n",
    "    Returns:\n",
    "        pandas.DataFrame with only the selected columns\n",
    "    '''\n",
    "    numerical_df = df.select_dtypes(include = ['int64','float64'])\n",
    "    corr_cols = numerical_df.columns[numerical_df.corr().SalePrice.abs() > 0.4]\n",
    "\n",
    "    return numerical_df[corr_cols]\n",
    "\n",
    "def train_and_test(df = select_features()):\n",
    "    '''Train and test a linear regression model\n",
    "    Args:\n",
    "        df = select_features() (pandas.DataFrame): DataFrame to train and test the model on\n",
    "    Returns:\n",
    "        float: The root mean squared error of the model'''\n",
    "    # divide the data in a train and test set\n",
    "    train = df.iloc[:1460]\n",
    "    test = df.iloc[1460:]\n",
    "    \n",
    "    # extract features to use and use only the numerical columns\n",
    "    features = train\n",
    "    num_cols = features.select_dtypes(include = ['float64','int64']).drop(columns = ['SalePrice'])\n",
    "    \n",
    "    # instantiating, training and testing the machine_learning model\n",
    "    lr = LinearRegression()\n",
    "    lr.fit(num_cols, train.SalePrice)\n",
    "    predictions = lr.predict(test[num_cols.columns])\n",
    "    rmse = mean_squared_error(test.SalePrice, predictions)**0.5\n",
    "    return rmse"
   ]
  },
  {
   "cell_type": "code",
   "execution_count": 14,
   "metadata": {},
   "outputs": [
    {
     "data": {
      "text/plain": [
       "Gable      2321\n",
       "Hip         551\n",
       "Gambrel      22\n",
       "Flat         20\n",
       "Mansard      11\n",
       "Shed          5\n",
       "Name: Roof Style, dtype: int64"
      ]
     },
     "execution_count": 14,
     "metadata": {},
     "output_type": "execute_result"
    }
   ],
   "source": [
    "data['Roof Style'].value_counts()"
   ]
  },
  {
   "cell_type": "markdown",
   "metadata": {},
   "source": [
    "## Columns for categorization\n",
    "\n",
    "So far only numerical features were used, but it is possible to use other features in a linear regression model as well.\n",
    "\n",
    "Some of the other aspects in the dataset what is called nominal or categorical variables. These put the house in a certain category. One example of this is the column `Roof Type`. It has information about the type of roof a house has, such as \"flat\" or \"Gable. Columns like this can be transformed to be used in training a linear regression model, which only uses numerical values. Many of the different attributes can often not be ordered compared to how much they will influence the target value. For example at this point it is not clear whether a flat roof makes a house more expensive than a gable roof. If this were known, it would be possible to try to order them and assign numerical values to them. But even if this is possible the linear regression model requires that the features have a linear relation to the target variable. To get around this, it is best to make a column for each possible category in a nominal feature and assign each house either a 1 or a 0 depending on if a category applies to the house or not, respectively.\n",
    "\n",
    "The nominal columns in the dataframe are:"
   ]
  },
  {
   "cell_type": "code",
   "execution_count": 15,
   "metadata": {},
   "outputs": [],
   "source": [
    "nominal_features = [\"PID\", \"MS SubClass\", \"MS Zoning\", \"Street\", \"Alley\", \"Land Contour\", \"Lot Config\", \"Neighborhood\", \n",
    "                    \"Condition 1\", \"Condition 2\", \"Bldg Type\", \"House Style\", \"Roof Style\", \"Roof Matl\", \"Exterior 1st\", \n",
    "                    \"Exterior 2nd\", \"Mas Vnr Type\", \"Foundation\", \"Heating\", \"Central Air\", \"Garage Type\", \n",
    "                    \"Misc Feature\", \"Sale Type\", \"Sale Condition\"]"
   ]
  },
  {
   "cell_type": "markdown",
   "metadata": {},
   "source": [
    "Only nominal features that have 10 or less unique values will be used to avoid the dataset from becoming too large and the model to be too biased by a single attribute."
   ]
  },
  {
   "cell_type": "code",
   "execution_count": null,
   "metadata": {},
   "outputs": [],
   "source": []
  },
  {
   "cell_type": "code",
   "execution_count": 16,
   "metadata": {},
   "outputs": [
    {
     "name": "stdout",
     "output_type": "stream",
     "text": [
      "PID 2930\n",
      "MS SubClass 16\n",
      "MS Zoning 7\n",
      "Street 2\n",
      "Alley 3\n",
      "Land Contour 4\n",
      "Lot Config 5\n",
      "Neighborhood 28\n",
      "Condition 1 9\n",
      "Condition 2 8\n",
      "Bldg Type 5\n",
      "House Style 8\n",
      "Roof Style 6\n",
      "Roof Matl 8\n",
      "Exterior 1st 16\n",
      "Exterior 2nd 17\n",
      "Mas Vnr Type 6\n",
      "Foundation 6\n",
      "Heating 6\n",
      "Central Air 2\n",
      "Garage Type 7\n",
      "Misc Feature 6\n",
      "Sale Type 10\n",
      "Sale Condition 6\n"
     ]
    }
   ],
   "source": [
    "cat_cols = []\n",
    "for column in nominal_features:\n",
    "    uniques = data[column].unique().shape[0]\n",
    "    print(column, uniques)\n",
    "    if uniques <= 10:\n",
    "        cat_cols.append(column)"
   ]
  },
  {
   "cell_type": "markdown",
   "metadata": {},
   "source": [
    "The new columns need to be checked for NaN values as well:"
   ]
  },
  {
   "cell_type": "code",
   "execution_count": 17,
   "metadata": {},
   "outputs": [
    {
     "data": {
      "text/plain": [
       "MS Zoning            0\n",
       "Street               0\n",
       "Alley             2732\n",
       "Land Contour         0\n",
       "Lot Config           0\n",
       "Condition 1          0\n",
       "Condition 2          0\n",
       "Bldg Type            0\n",
       "House Style          0\n",
       "Roof Style           0\n",
       "Roof Matl            0\n",
       "Mas Vnr Type        23\n",
       "Foundation           0\n",
       "Heating              0\n",
       "Central Air          0\n",
       "Garage Type        157\n",
       "Misc Feature      2824\n",
       "Sale Type            0\n",
       "Sale Condition       0\n",
       "dtype: int64"
      ]
     },
     "execution_count": 17,
     "metadata": {},
     "output_type": "execute_result"
    }
   ],
   "source": [
    "data[cat_cols].isnull().sum()"
   ]
  },
  {
   "cell_type": "markdown",
   "metadata": {},
   "source": [
    "`Mas Vnr Type` has 23 nan values. We can replace those with 'none'."
   ]
  },
  {
   "cell_type": "code",
   "execution_count": 18,
   "metadata": {},
   "outputs": [
    {
     "data": {
      "text/plain": [
       "None       1752\n",
       "BrkFace     880\n",
       "Stone       249\n",
       "BrkCmn       25\n",
       "NaN          23\n",
       "CBlock        1\n",
       "Name: Mas Vnr Type, dtype: int64"
      ]
     },
     "execution_count": 18,
     "metadata": {},
     "output_type": "execute_result"
    }
   ],
   "source": [
    "data['Mas Vnr Type'].value_counts(dropna = False)"
   ]
  },
  {
   "cell_type": "markdown",
   "metadata": {},
   "source": [
    "`Garage Type`:"
   ]
  },
  {
   "cell_type": "code",
   "execution_count": 19,
   "metadata": {},
   "outputs": [
    {
     "data": {
      "text/plain": [
       "Attchd     1731\n",
       "Detchd      782\n",
       "BuiltIn     186\n",
       "NaN         157\n",
       "Basment      36\n",
       "2Types       23\n",
       "CarPort      15\n",
       "Name: Garage Type, dtype: int64"
      ]
     },
     "execution_count": 19,
     "metadata": {},
     "output_type": "execute_result"
    }
   ],
   "source": [
    "data['Garage Type'].value_counts(dropna = False)"
   ]
  },
  {
   "cell_type": "markdown",
   "metadata": {},
   "source": [
    "This column has 157 nan values. Which probably just means that those houses have no garages. So they can again be replaced with 'none'"
   ]
  },
  {
   "cell_type": "code",
   "execution_count": 20,
   "metadata": {},
   "outputs": [
    {
     "name": "stdout",
     "output_type": "stream",
     "text": [
      "157\n",
      "0\n",
      "23\n",
      "0\n"
     ]
    }
   ],
   "source": [
    "df = data.copy()\n",
    "\n",
    "for column in ['Garage Type', 'Mas Vnr Type']:\n",
    "    if column in df.columns:\n",
    "        print(df[column].isnull().sum())\n",
    "        df[column] = df[column].fillna('none')\n",
    "        print(df[column].isnull().sum())"
   ]
  },
  {
   "cell_type": "markdown",
   "metadata": {},
   "source": [
    "The other columns with nan values will be dropped by the functions because of the large ammount of NaN values. But this can also be done manually:"
   ]
  },
  {
   "cell_type": "code",
   "execution_count": 21,
   "metadata": {},
   "outputs": [],
   "source": [
    "for column in ['Misc Feature', 'Alley']:\n",
    "    if column in cat_cols:\n",
    "        cat_cols.remove(column)"
   ]
  },
  {
   "cell_type": "markdown",
   "metadata": {},
   "source": [
    "Now the remaining functions will be turned into the categorical type. This causes all of the unique values in a nominal feature to be assigned a number and then the values in the column to be replaced by these numbers.\n",
    "\n",
    "Next for each of the possible categories a new column is created and each of the houses is assigned either a 1 or a 0 depending on if the category applies to the house.\n",
    "\n",
    "In the final step these new dummy columns are appended to the end of the DataFrame and the original columns dropped.\n",
    "\n",
    "This will allow the model to use these features when training and predicting."
   ]
  },
  {
   "cell_type": "code",
   "execution_count": 22,
   "metadata": {},
   "outputs": [],
   "source": [
    "for column in cat_cols:\n",
    "    df[column] = df[column].astype('category')\n",
    "df = pd.concat([df,pd.get_dummies(df.select_dtypes(include = ['category']))], axis = 1)\n",
    "df = df.drop(cat_cols, axis = 1)"
   ]
  },
  {
   "cell_type": "markdown",
   "metadata": {},
   "source": [
    "Now the remaining columns and their correlation values relative to `SalePrice` are:"
   ]
  },
  {
   "cell_type": "code",
   "execution_count": 24,
   "metadata": {
    "scrolled": false
   },
   "outputs": [
    {
     "data": {
      "text/plain": [
       "SalePrice          1.000000\n",
       "Overall Qual       0.799262\n",
       "Gr Liv Area        0.706780\n",
       "Garage Cars        0.647877\n",
       "Garage Area        0.640401\n",
       "Total Bsmt SF      0.632280\n",
       "1st Flr SF         0.621676\n",
       "age_sold           0.558907\n",
       "Year Built         0.558426\n",
       "Full Bath          0.545604\n",
       "Year Remod/Add     0.532974\n",
       "Garage Yr Blt      0.526965\n",
       "Mas Vnr Area       0.508285\n",
       "TotRms AbvGrd      0.495474\n",
       "Fireplaces         0.474558\n",
       "BsmtFin SF 1       0.432914\n",
       "Lot Frontage       0.357318\n",
       "Wood Deck SF       0.327143\n",
       "Open Porch SF      0.312951\n",
       "Half Bath          0.285056\n",
       "Bsmt Full Bath     0.276050\n",
       "2nd Flr SF         0.269373\n",
       "Lot Area           0.266549\n",
       "PID                0.246521\n",
       "age_remod          0.240168\n",
       "Bsmt Unf SF        0.182855\n",
       "Bedroom AbvGr      0.143913\n",
       "Enclosed Porch     0.128787\n",
       "Kitchen AbvGr      0.119814\n",
       "Screen Porch       0.112151\n",
       "Overall Cond       0.101697\n",
       "MS SubClass        0.085092\n",
       "Pool Area          0.068403\n",
       "Low Qual Fin SF    0.037660\n",
       "Bsmt Half Bath     0.035835\n",
       "Mo Sold            0.035259\n",
       "3Ssn Porch         0.032225\n",
       "Order              0.031408\n",
       "Yr Sold            0.030569\n",
       "Misc Val           0.015691\n",
       "BsmtFin SF 2       0.005891\n",
       "Name: SalePrice, dtype: float64"
      ]
     },
     "execution_count": 24,
     "metadata": {},
     "output_type": "execute_result"
    }
   ],
   "source": [
    "data.corr().SalePrice.abs().sort_values(ascending = False)"
   ]
  },
  {
   "cell_type": "markdown",
   "metadata": {},
   "source": [
    "This functionality can now be included in the `transform_features()` and `select_features()` functions:"
   ]
  },
  {
   "cell_type": "code",
   "execution_count": 27,
   "metadata": {},
   "outputs": [
    {
     "name": "stdout",
     "output_type": "stream",
     "text": [
      "column banana not in dataframe\n",
      "column Sale Condition not in dataframe\n",
      "column Alley not in dataframe\n",
      "(2930, 138)\n"
     ]
    }
   ],
   "source": [
    "def transform_features(df = data,un_thresh = 10, nan_thresh = 0.05):\n",
    "    '''Engineer and select features for use by a linear regression model\n",
    "    Args:\n",
    "        df = data (pandas.DataFrame): DataFrame containing features\n",
    "        un_thresh = 10 (int) : threshold of maximum unique values in a categorical column to include\n",
    "        nan_thresh = 0.05 (float): Threshold of proportion of nan values in column to include\n",
    "    Returns:\n",
    "        pandas.DataFrame with a select number of improved features\n",
    "    '''\n",
    "    drop_cols = ['Year Built', 'Yr Sold', 'Year Remod/Add',\n",
    "                 'Mo Sold', 'banana', 'Order', 'PID',\n",
    "                 \"Sale Condition\", \"Sale Type\", 'Garage Cars', 'Alley']\n",
    "    missing_vals = df.isnull().sum()/df.shape[0]\n",
    "    high_na_cols = df.columns[missing_vals > nan_thresh]\n",
    "    df = df.drop(columns = high_na_cols)\n",
    "    # Turning the nominal columns into categorical dummies:\n",
    "    nominal_features = [\"PID\", \"MS SubClass\", \"MS Zoning\", \"Street\", \"Alley\", \"Land Contour\", \"Lot Config\", \"Neighborhood\", \n",
    "                    \"Condition 1\", \"Condition 2\", \"Bldg Type\", \"House Style\", \"Roof Style\", \"Roof Matl\", \"Exterior 1st\", \n",
    "                    \"Exterior 2nd\", \"Mas Vnr Type\", \"Foundation\", \"Heating\", \"Central Air\", \"Garage Type\", \n",
    "                    \"Misc Feature\", \"Sale Type\", \"Sale Condition\"]\n",
    "    # making the column list for the categorization\n",
    "    cat_cols = []\n",
    "    for column in nominal_features:\n",
    "        if column in df.columns:\n",
    "            uniques = data[column].unique().shape[0]\n",
    "            if uniques < un_thresh:\n",
    "                cat_cols.append(column)\n",
    "                \n",
    "    # replacing the nan values in the two columns that have few\n",
    "    for column in ['Garage Type', 'Mas Vnr Type']:\n",
    "        if column in df.columns:\n",
    "            df[column] = df[column].fillna('none')\n",
    "        \n",
    "    # finally making the dummy columns and concatenating them to df\n",
    "    for column in cat_cols:\n",
    "        df[column] = df[column].astype('category')\n",
    "    df = pd.concat([df,pd.get_dummies(df.select_dtypes(include = ['category']))], axis = 1)\n",
    "    df = df.drop(cat_cols, axis = 1)\n",
    "    \n",
    "    # dropping certain columns by name\n",
    "    for column in drop_cols:\n",
    "        if column in df.columns:\n",
    "            df = df.drop(columns = column)\n",
    "        else:\n",
    "            print('column {} not in dataframe'.format(column))\n",
    "    missing_vals = df.isnull().sum()/df.shape[0]\n",
    "    low_na_num = ((df[missing_vals[(missing_vals > 0) & (missing_vals < 0.05)].index])\n",
    "                  .select_dtypes(include = ['int64','float64']).columns)\n",
    "    if low_na_num.shape[0] > 0:\n",
    "        df[low_na_num] = df[low_na_num].fillna(df[low_na_num].mode().to_dict(orient='records')[0])\n",
    "    print(df.shape)\n",
    "    return df\n",
    "\n",
    "def select_features(df = transform_features(),corr_thresh = 0.4):\n",
    "    '''Select features out of a dataframe\n",
    "    Args:\n",
    "        df (pandas.DataFrame): DataFrame to process\n",
    "        corr_thresh = 0.4 (float): threshold of correlation value to include column\n",
    "    Returns:\n",
    "        pandas.DataFrame with only the selected columns\n",
    "    '''\n",
    "    numerical_df = df.select_dtypes(include = ['int64','float64'])\n",
    "    corr_cols = numerical_df.columns[numerical_df.corr().SalePrice.abs() > corr_thresh]\n",
    "\n",
    "    return numerical_df[corr_cols]\n",
    "\n",
    "def train_and_test(df = select_features()):\n",
    "    '''Train and test a linear regression model\n",
    "    Args:\n",
    "        df (pandas.DataFrame): DataFrame to train and test the model on\n",
    "    Returns:\n",
    "        float: The root mean squared error of the model'''\n",
    "    # divide the data in a train and test set\n",
    "    sp = df.SalePrice\n",
    "    df.drop(columns = 'SalePrice',inplace = True)\n",
    "    df = (df - df.min()) /(df.max() - df.min())\n",
    "    df = pd.concat([df,sp], axis =1)\n",
    "    train = df.iloc[:1460]\n",
    "    test = df.iloc[1460:]\n",
    "    \n",
    "    # extract features to use and use only the numerical columns\n",
    "    features = train\n",
    "    num_cols = features.select_dtypes(include = ['float64','int64']).drop(columns = ['SalePrice'])\n",
    "    \n",
    "    # instantiating, training and testing the machine_learning model\n",
    "    lr = LinearRegression()\n",
    "    lr.fit(num_cols, train.SalePrice)\n",
    "    predictions = lr.predict(test[num_cols.columns])\n",
    "    rmse = mean_squared_error(test.SalePrice, predictions)**0.5\n",
    "    return rmse"
   ]
  },
  {
   "cell_type": "code",
   "execution_count": 22,
   "metadata": {},
   "outputs": [
    {
     "data": {
      "text/plain": [
       "40838.476842105505"
      ]
     },
     "execution_count": 22,
     "metadata": {},
     "output_type": "execute_result"
    }
   ],
   "source": [
    "train_and_test()"
   ]
  },
  {
   "cell_type": "markdown",
   "metadata": {},
   "source": [
    "Now to make a more refined way of testing the model:\n",
    "We will add a new parameter k:\n",
    "* if k == 0, the function will use the current selection process:\n",
    "    1. splitting the dataframe at 1460\n",
    "    2. training on the train set\n",
    "    3. testing on the test set and calculating the rmse\n",
    "* if k==1 the function will do a cross validation:\n",
    "    1. Shuffle the rows\n",
    "    2. assign the first 1460 rows to a variable called `fold_one`\n",
    "    3. assign the rest to `fold_two`\n",
    "    4. train on `fold_one`, test on `fold_two`\n",
    "    5. train on `fold_two`, test on `fold_one`\n",
    "    6. calculate the average rmse\n",
    "   "
   ]
  },
  {
   "cell_type": "code",
   "execution_count": 28,
   "metadata": {},
   "outputs": [
    {
     "name": "stdout",
     "output_type": "stream",
     "text": [
      "column banana not in dataframe\n",
      "column Sale Condition not in dataframe\n",
      "column Alley not in dataframe\n",
      "(2930, 138)\n",
      "35181.29274302898\n"
     ]
    }
   ],
   "source": [
    "np.random.seed(1)\n",
    "df = transform_features(data)\n",
    "df = select_features(df)\n",
    "\n",
    "#randomizing the dataset's rows\n",
    "shuffled_index = np.random.permutation(df.shape[0])\n",
    "df = df.iloc[shuffled_index].reset_index().drop('index', axis = 1)\n",
    "\n",
    "# making the two training sets\n",
    "fold_one = df.iloc[:1460].copy()\n",
    "fold_two = df.iloc[1460:].copy()\n",
    "fold_one_sp = fold_one.SalePrice.copy()\n",
    "fold_one.drop(columns = 'SalePrice', inplace = True)\n",
    "fold_two_sp = fold_two.SalePrice.copy()\n",
    "fold_two.drop(columns = 'SalePrice', inplace = True)\n",
    "\n",
    "#training models and calculating the rmses\n",
    "lr = LinearRegression()\n",
    "\n",
    "lr.fit(fold_one, fold_one_sp)\n",
    "predicts_f_1 = lr.predict(fold_two)\n",
    "rmse1 = mean_squared_error(fold_two_sp, predicts_f_1)**0.5\n",
    "\n",
    "lr.fit(fold_two, fold_two_sp)\n",
    "predicts_f_2 = lr.predict(fold_one)\n",
    "rmse2 = mean_squared_error(fold_one_sp, predicts_f_2)**0.5\n",
    "print((rmse1+rmse2)/2)"
   ]
  },
  {
   "cell_type": "markdown",
   "metadata": {
    "collapsed": true
   },
   "source": [
    "Now to add this functionality to `train_test()`:"
   ]
  },
  {
   "cell_type": "code",
   "execution_count": 32,
   "metadata": {
    "scrolled": true
   },
   "outputs": [
    {
     "name": "stdout",
     "output_type": "stream",
     "text": [
      "column banana not in dataframe\n",
      "column Sale Condition not in dataframe\n",
      "column Alley not in dataframe\n",
      "(2930, 138)\n"
     ]
    }
   ],
   "source": [
    "def transform_features(df = data,un_thresh = 10, nan_thresh = 0.05):\n",
    "    '''Engineer and select features for use by a linear regression model\n",
    "    Args:\n",
    "        df = data (pandas.DataFrame): DataFrame containing features\n",
    "        un_thresh = 10 (int) : threshold of maximum unique values in a categorical column to include\n",
    "        nan_thresh = 0.05 (float): Threshold of proportion of nan values in column to include\n",
    "    Returns:\n",
    "        pandas.DataFrame with a select number of improved features\n",
    "    '''\n",
    "    drop_cols = ['Year Built', 'Yr Sold', 'Year Remod/Add',\n",
    "                 'Mo Sold', 'banana', 'Order', 'PID',\n",
    "                 \"Sale Condition\", \"Sale Type\", 'Garage Cars', 'Alley']\n",
    "    missing_vals = df.isnull().sum()/df.shape[0]\n",
    "    high_na_cols = df.columns[missing_vals > nan_thresh]\n",
    "    df = df.drop(columns = high_na_cols)\n",
    "    # Turning the nominal columns into categorical dummies:\n",
    "    nominal_features = [\"PID\", \"MS SubClass\", \"MS Zoning\", \"Street\", \"Alley\", \"Land Contour\", \"Lot Config\", \"Neighborhood\", \n",
    "                    \"Condition 1\", \"Condition 2\", \"Bldg Type\", \"House Style\", \"Roof Style\", \"Roof Matl\", \"Exterior 1st\", \n",
    "                    \"Exterior 2nd\", \"Mas Vnr Type\", \"Foundation\", \"Heating\", \"Central Air\", \"Garage Type\", \n",
    "                    \"Misc Feature\", \"Sale Type\", \"Sale Condition\"]\n",
    "    # making the column list for the categorization\n",
    "    cat_cols = []\n",
    "    for column in nominal_features:\n",
    "        if column in df.columns:\n",
    "            uniques = data[column].unique().shape[0]\n",
    "            if uniques < un_thresh:\n",
    "                cat_cols.append(column)\n",
    "                \n",
    "    # replacing the nan values in the two columns that have few\n",
    "    for column in ['Garage Type', 'Mas Vnr Type']:\n",
    "        if column in df.columns:\n",
    "            df[column] = df[column].fillna('none')\n",
    "        \n",
    "    # finally making the dummy columns and concatenating them to df\n",
    "    for column in cat_cols:\n",
    "        df[column] = df[column].astype('category')\n",
    "    df = pd.concat([df,pd.get_dummies(df.select_dtypes(include = ['category']))], axis = 1)\n",
    "    df = df.drop(cat_cols, axis = 1)\n",
    "    \n",
    "    # dropping certain columns by name\n",
    "    for column in drop_cols:\n",
    "        if column in df.columns:\n",
    "            df = df.drop(columns = column)\n",
    "        else:\n",
    "            print('column {} not in dataframe'.format(column))\n",
    "    missing_vals = df.isnull().sum()/df.shape[0]\n",
    "    low_na_num = ((df[missing_vals[(missing_vals > 0) & (missing_vals < 0.05)].index])\n",
    "                  .select_dtypes(include = ['int64','float64']).columns)\n",
    "    if low_na_num.shape[0] > 0:\n",
    "        df[low_na_num] = df[low_na_num].fillna(df[low_na_num].mode().to_dict(orient='records')[0])\n",
    "    print(df.shape)\n",
    "    return df\n",
    "\n",
    "def select_features(df = transform_features(),corr_thresh = 0.4):\n",
    "    '''Select features out of a dataframe\n",
    "    Args:\n",
    "        df (pandas.DataFrame): DataFrame to process\n",
    "        corr_thresh = 0.4 (float): threshold of correlation value to include column\n",
    "    Returns:\n",
    "        pandas.DataFrame with only the selected columns\n",
    "    '''\n",
    "    numerical_df = df.select_dtypes(include = ['int64','float64'])\n",
    "    corr_cols = numerical_df.columns[numerical_df.corr().SalePrice.abs() > corr_thresh]\n",
    "\n",
    "    return numerical_df[corr_cols]\n",
    "\n",
    "def train_and_test(df = select_features(), k = 0):\n",
    "    '''Train and test a linear regression model\n",
    "    Args:\n",
    "        df (pandas.DataFrame): DataFrame to train and test the model on\n",
    "        k = 0 (int: 0 or 1): select the mode to use for testing:\n",
    "            0: split the dataset into train and test set at the midpoint\n",
    "            1: Use a cross validation containing two folds\n",
    "    Returns:\n",
    "        float: The root mean squared error of the model'''\n",
    "    if k == 0:\n",
    "        # divide the data in a train and test set\n",
    "        sp = df.SalePrice\n",
    "        df.drop(columns = 'SalePrice',inplace = True)\n",
    "        df = (df - df.min()) /(df.max() - df.min())\n",
    "        df = pd.concat([df,sp], axis =1)\n",
    "        train = df.iloc[:1460]\n",
    "        test = df.iloc[1460:]\n",
    "    \n",
    "        # extract features to use and use only the numerical columns\n",
    "        features = train\n",
    "        num_cols = features.select_dtypes(include = ['float64','int64']).drop(columns = ['SalePrice'])\n",
    "    \n",
    "        # instantiating, training and testing the machine_learning model\n",
    "        lr = LinearRegression()\n",
    "        lr.fit(num_cols, train.SalePrice)\n",
    "        predictions = lr.predict(test[num_cols.columns])\n",
    "        rmse = mean_squared_error(test.SalePrice, predictions)**0.5\n",
    "        return rmse\n",
    "    if k == 1:\n",
    "        np.random.seed(1)\n",
    "\n",
    "        #randomizing the dataset's rows\n",
    "        shuffled_index = np.random.permutation(df.shape[0])\n",
    "        df = df.iloc[shuffled_index].reset_index().drop('index', axis = 1)\n",
    "\n",
    "        # making the two training sets\n",
    "        fold_one = df.iloc[:1460].copy()\n",
    "        fold_two = df.iloc[1460:].copy()\n",
    "        fold_one_sp = fold_one.SalePrice.copy()\n",
    "        fold_one.drop(columns = 'SalePrice', inplace = True)\n",
    "        fold_two_sp = fold_two.SalePrice.copy()\n",
    "        fold_two.drop(columns = 'SalePrice', inplace = True)\n",
    "\n",
    "        #training models and calculating the rmses\n",
    "        lr = LinearRegression()\n",
    "\n",
    "        lr.fit(fold_one, fold_one_sp)\n",
    "        predicts_f_1 = lr.predict(fold_two)\n",
    "        rmse1 = mean_squared_error(fold_two_sp, predicts_f_1)**0.5\n",
    "\n",
    "        lr.fit(fold_two, fold_two_sp)\n",
    "        predicts_f_2 = lr.predict(fold_one)\n",
    "        rmse2 = mean_squared_error(fold_one_sp, predicts_f_2)**0.5\n",
    "        return (rmse1+rmse2)/2        "
   ]
  },
  {
   "cell_type": "code",
   "execution_count": 33,
   "metadata": {},
   "outputs": [
    {
     "data": {
      "text/plain": [
       "35181.29274302898"
      ]
     },
     "execution_count": 33,
     "metadata": {},
     "output_type": "execute_result"
    }
   ],
   "source": [
    "train_and_test(k = 1)"
   ]
  },
  {
   "cell_type": "markdown",
   "metadata": {},
   "source": [
    "## Results\n",
    "\n",
    "The linear regression model shows a root mean squared uncertainty of 35000 USD when predicting the sale of the houses in the dataset."
   ]
  },
  {
   "cell_type": "markdown",
   "metadata": {},
   "source": [
    "# Summary\n",
    "\n",
    "In this project a linear regression model was constructed to predict the prices of houses given some of their attributes. To achieve the most accurate result, the most promising columns in the dataset were selected and then engineered to be best suited to the linear regression model. In the end, the model achieved a root mean squared uncertainty of about 35,000 USD. This could possibly be improved by further feature engineering or by selecting a different, more powerful model, as in a lot of cases the linear regression model is a very limited one."
   ]
  }
 ],
 "metadata": {
  "anaconda-cloud": {},
  "kernelspec": {
   "display_name": "Python 3",
   "language": "python",
   "name": "python3"
  },
  "language_info": {
   "codemirror_mode": {
    "name": "ipython",
    "version": 3
   },
   "file_extension": ".py",
   "mimetype": "text/x-python",
   "name": "python",
   "nbconvert_exporter": "python",
   "pygments_lexer": "ipython3",
   "version": "3.7.6"
  }
 },
 "nbformat": 4,
 "nbformat_minor": 2
}
